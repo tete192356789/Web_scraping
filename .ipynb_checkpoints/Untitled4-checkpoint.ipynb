{
 "cells": [
  {
   "cell_type": "code",
   "execution_count": null,
   "id": "82ca3832",
   "metadata": {},
   "outputs": [],
   "source": [
    "from urllib.parse import urljoin\n",
    "import requests\n",
    "from bs4 import BeautifulSoup\n",
    "import pandas as pd\n",
    "import re\n",
    "import csv\n",
    "import nltk\n",
    "from nltk import sent_tokenize\n",
    "from textblob import TextBlob\n",
    "from textblob.sentiments import NaiveBayesAnalyzer\n",
    "from testing import *\n",
    "\n",
    "all_url = crawl('https://www.gamespot.com/')\n",
    "a = game_spot_content(all_url)\n",
    "df = pd.DataFrame.from_dict(a)\n",
    "\n",
    "all_url2 = crawl('https://www.gameinformer.com/')\n",
    "a2 = game_informer_content(all_url2)\n",
    "df2 = pd.DataFrame.from_dict(a2)\n",
    "\n",
    "all_url3 = crawl('https://www.gematsu.com/')\n",
    "a3 = gematsu_content(all_url3)\n",
    "df3 = pd.DataFrame.from_dict(a3)\n",
    "\n",
    "all_url4 = crawl('https://www.techradar.com/')\n",
    "a4 = techradar_content(all_url4)\n",
    "df4 = pd.DataFrame.from_dict(a4)\n",
    "\n",
    "all_url5 = crawl('https://n4g.com/')\n",
    "a5 = n4g_content(all_url5)\n",
    "df5 = pd.DataFrame.from_dict(a5)\n",
    "\n",
    "all_url6 = crawl('https://www.mmorpg.com/')\n",
    "a6 = mmorpg_content(all_url6)\n",
    "df6 = pd.DataFrame.from_dict(a6)\n",
    "\n",
    "sum_df = pd.concat([df, df2,df3,df4], axis=0,ignore_index = True)\n"
   ]
  },
  {
   "cell_type": "code",
   "execution_count": null,
   "id": "2b3e67b2",
   "metadata": {},
   "outputs": [],
   "source": [
    "df"
   ]
  },
  {
   "cell_type": "code",
   "execution_count": null,
   "id": "cb10447f",
   "metadata": {},
   "outputs": [],
   "source": [
    "sum_df.to_csv('content.csv',index = False)"
   ]
  },
  {
   "cell_type": "code",
   "execution_count": null,
   "id": "ca812001",
   "metadata": {},
   "outputs": [],
   "source": [
    "data_from_csv = pd.read_csv('content.csv',encoding='utf-8')\n",
    "data_from_csv"
   ]
  },
  {
   "cell_type": "code",
   "execution_count": null,
   "id": "0bdb21da",
   "metadata": {},
   "outputs": [],
   "source": [
    "from testing import *\n",
    "\n",
    "pol_res = []\n",
    "count_res = []\n",
    "key_word = 'games'\n",
    "for sen in data_from_csv['content']:\n",
    "    clean_text = clean_text(sen)\n",
    "    sentiment_pol = check_sentiment(clean_text)\n",
    "    counter = count_words(clean_text,key_word)\n",
    "    print(sentiment_pol)\n",
    "    print('Word count :',counter)\n",
    "    pol_res.append(sentiment_pol)\n",
    "    count_res.append(counter)"
   ]
  },
  {
   "cell_type": "code",
   "execution_count": null,
   "id": "fb45e1bf",
   "metadata": {},
   "outputs": [],
   "source": [
    "data_from_csv['sentiment'] = pol_res\n",
    "data_from_csv"
   ]
  },
  {
   "cell_type": "code",
   "execution_count": null,
   "id": "1842cdfd",
   "metadata": {},
   "outputs": [],
   "source": [
    "data_from_csv['count_word'] = count_res"
   ]
  },
  {
   "cell_type": "code",
   "execution_count": null,
   "id": "8bd204af",
   "metadata": {},
   "outputs": [],
   "source": [
    "data_from_csv"
   ]
  },
  {
   "cell_type": "code",
   "execution_count": null,
   "id": "d72246db",
   "metadata": {},
   "outputs": [],
   "source": [
    "data_from_csv.to_csv('content_with_sentiment_count.csv', encoding='utf-8',index= False)"
   ]
  },
  {
   "cell_type": "code",
   "execution_count": null,
   "id": "b7a65c83",
   "metadata": {},
   "outputs": [],
   "source": [
    "data_from_csv2 = pd.read_csv('content_with_sentiment_count.csv',encoding='utf-8')"
   ]
  },
  {
   "cell_type": "code",
   "execution_count": null,
   "id": "eb645146",
   "metadata": {},
   "outputs": [],
   "source": [
    "\n",
    "\n",
    "data_from_csv2"
   ]
  },
  {
   "cell_type": "code",
   "execution_count": null,
   "id": "22864f13",
   "metadata": {},
   "outputs": [],
   "source": []
  },
  {
   "cell_type": "code",
   "execution_count": null,
   "id": "5461395c",
   "metadata": {},
   "outputs": [],
   "source": [
    "df3 = data_from_csv2.loc[:,['url','count_word']] \n",
    "df3_sorted = df3.sort_values(by=['count_word'],ascending = False)"
   ]
  },
  {
   "cell_type": "code",
   "execution_count": null,
   "id": "a528611f",
   "metadata": {},
   "outputs": [],
   "source": [
    "df3_sorted"
   ]
  },
  {
   "cell_type": "code",
   "execution_count": null,
   "id": "fbc02d79",
   "metadata": {},
   "outputs": [],
   "source": [
    "text ='The UK lockdown restrictions will be dropped in the summer so we can go partying again!'\n",
    "\n",
    "a = remove_stop_word(text)\n",
    "a"
   ]
  },
  {
   "cell_type": "code",
   "execution_count": null,
   "id": "1fabf332",
   "metadata": {},
   "outputs": [],
   "source": []
  },
  {
   "cell_type": "code",
   "execution_count": null,
   "id": "c8ee890f",
   "metadata": {},
   "outputs": [],
   "source": []
  }
 ],
 "metadata": {
  "kernelspec": {
   "display_name": "Python 3 (ipykernel)",
   "language": "python",
   "name": "python3"
  },
  "language_info": {
   "codemirror_mode": {
    "name": "ipython",
    "version": 3
   },
   "file_extension": ".py",
   "mimetype": "text/x-python",
   "name": "python",
   "nbconvert_exporter": "python",
   "pygments_lexer": "ipython3",
   "version": "3.10.1"
  }
 },
 "nbformat": 4,
 "nbformat_minor": 5
}
