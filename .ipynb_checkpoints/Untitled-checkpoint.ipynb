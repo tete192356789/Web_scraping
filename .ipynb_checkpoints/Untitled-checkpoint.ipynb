{
 "cells": [
  {
   "cell_type": "code",
   "execution_count": 1,
   "id": "105a2916",
   "metadata": {
    "collapsed": true
   },
   "outputs": [
    {
     "name": "stderr",
     "output_type": "stream",
     "text": [
      "2022-03-18 16:24:16,458 INFO:Crawling: https://www.imdb.com/\n",
      "2022-03-18 16:24:18,740 INFO:Crawling: https://www.coursesquare.co/\n",
      "2022-03-18 16:24:20,959 INFO:Crawling: https://www.imdb.com/?ref_=nv_home\n",
      "2022-03-18 16:24:22,329 INFO:Crawling: https://www.imdb.com/calendar/?ref_=nv_mv_cal\n",
      "2022-03-18 16:24:23,544 INFO:Crawling: https://www.imdb.com/list/ls016522954/?ref_=nv_tvv_dvd\n",
      "2022-03-18 16:24:30,484 INFO:Crawling: https://www.imdb.com/chart/top/?ref_=nv_mv_250\n",
      "2022-03-18 16:24:32,526 INFO:Crawling: https://www.imdb.com/chart/moviemeter/?ref_=nv_mv_mpm\n",
      "2022-03-18 16:24:34,386 INFO:Crawling: https://www.imdb.com/feature/genre/?ref_=nv_ch_gr\n",
      "2022-03-18 16:24:35,579 INFO:Crawling: https://www.imdb.com/chart/boxoffice/?ref_=nv_ch_cht\n",
      "2022-03-18 16:24:36,746 INFO:Crawling: https://www.imdb.com/showtimes/?ref_=nv_mv_sh\n",
      "2022-03-18 16:24:37,658 INFO:Crawling: https://www.imdb.com/movies-in-theaters/?ref_=nv_mv_inth\n",
      "2022-03-18 16:24:38,909 INFO:Crawling: https://www.imdb.com/coming-soon/?ref_=nv_mv_cs\n",
      "2022-03-18 16:24:40,941 INFO:Crawling: https://www.imdb.com/news/movie/?ref_=nv_nw_mv\n",
      "2022-03-18 16:24:45,609 INFO:Crawling: https://www.imdb.com/india/toprated/?ref_=nv_mv_in\n",
      "2022-03-18 16:24:49,078 INFO:Crawling: https://www.imdb.com/whats-on-tv/?ref_=nv_tv_ontv\n",
      "2022-03-18 16:24:51,094 INFO:Crawling: https://www.imdb.com/chart/toptv/?ref_=nv_tvv_250\n",
      "2022-03-18 16:24:53,296 INFO:Crawling: https://www.imdb.com/chart/tvmeter/?ref_=nv_tvv_mptv\n",
      "2022-03-18 16:25:24,599 INFO:Crawling: https://www.imdb.com/feature/genre/\n",
      "2022-03-18 16:25:25,795 INFO:Crawling: https://www.imdb.com/news/tv/?ref_=nv_nw_tv\n",
      "2022-03-18 16:25:27,243 INFO:Crawling: https://www.imdb.com/india/tv?ref_=nv_tv_in\n",
      "2022-03-18 16:25:28,681 INFO:Crawling: https://www.imdb.com/what-to-watch/?ref_=nv_watch\n",
      "2022-03-18 16:25:29,851 INFO:Crawling: https://www.imdb.com/trailers/?ref_=nv_mv_tr\n"
     ]
    },
    {
     "ename": "KeyboardInterrupt",
     "evalue": "",
     "output_type": "error",
     "traceback": [
      "\u001b[1;31m---------------------------------------------------------------------------\u001b[0m",
      "\u001b[1;31mKeyboardInterrupt\u001b[0m                         Traceback (most recent call last)",
      "\u001b[1;32m~\\AppData\\Local\\Temp/ipykernel_22404/3822568658.py\u001b[0m in \u001b[0;36m<module>\u001b[1;34m\u001b[0m\n\u001b[0;32m     46\u001b[0m \u001b[1;33m\u001b[0m\u001b[0m\n\u001b[0;32m     47\u001b[0m \u001b[1;32mif\u001b[0m \u001b[0m__name__\u001b[0m \u001b[1;33m==\u001b[0m \u001b[1;34m'__main__'\u001b[0m\u001b[1;33m:\u001b[0m\u001b[1;33m\u001b[0m\u001b[1;33m\u001b[0m\u001b[0m\n\u001b[1;32m---> 48\u001b[1;33m     \u001b[0mCrawler\u001b[0m\u001b[1;33m(\u001b[0m\u001b[0murls\u001b[0m\u001b[1;33m=\u001b[0m\u001b[1;33m[\u001b[0m\u001b[1;34m'https://www.imdb.com/'\u001b[0m\u001b[1;33m,\u001b[0m\u001b[1;34m'https://www.coursesquare.co/'\u001b[0m\u001b[1;33m]\u001b[0m\u001b[1;33m)\u001b[0m\u001b[1;33m.\u001b[0m\u001b[0mrun\u001b[0m\u001b[1;33m(\u001b[0m\u001b[1;33m)\u001b[0m\u001b[1;33m\u001b[0m\u001b[1;33m\u001b[0m\u001b[0m\n\u001b[0m",
      "\u001b[1;32m~\\AppData\\Local\\Temp/ipykernel_22404/3822568658.py\u001b[0m in \u001b[0;36mrun\u001b[1;34m(self)\u001b[0m\n\u001b[0;32m     39\u001b[0m             \u001b[0mlogging\u001b[0m\u001b[1;33m.\u001b[0m\u001b[0minfo\u001b[0m\u001b[1;33m(\u001b[0m\u001b[1;34mf'Crawling: {url}'\u001b[0m\u001b[1;33m)\u001b[0m\u001b[1;33m\u001b[0m\u001b[1;33m\u001b[0m\u001b[0m\n\u001b[0;32m     40\u001b[0m             \u001b[1;32mtry\u001b[0m\u001b[1;33m:\u001b[0m\u001b[1;33m\u001b[0m\u001b[1;33m\u001b[0m\u001b[0m\n\u001b[1;32m---> 41\u001b[1;33m                 \u001b[0mself\u001b[0m\u001b[1;33m.\u001b[0m\u001b[0mcrawl\u001b[0m\u001b[1;33m(\u001b[0m\u001b[0murl\u001b[0m\u001b[1;33m)\u001b[0m\u001b[1;33m\u001b[0m\u001b[1;33m\u001b[0m\u001b[0m\n\u001b[0m\u001b[0;32m     42\u001b[0m             \u001b[1;32mexcept\u001b[0m \u001b[0mException\u001b[0m\u001b[1;33m:\u001b[0m\u001b[1;33m\u001b[0m\u001b[1;33m\u001b[0m\u001b[0m\n\u001b[0;32m     43\u001b[0m                 \u001b[0mlogging\u001b[0m\u001b[1;33m.\u001b[0m\u001b[0mexception\u001b[0m\u001b[1;33m(\u001b[0m\u001b[1;34mf'Failed to crawl: {url}'\u001b[0m\u001b[1;33m)\u001b[0m\u001b[1;33m\u001b[0m\u001b[1;33m\u001b[0m\u001b[0m\n",
      "\u001b[1;32m~\\AppData\\Local\\Temp/ipykernel_22404/3822568658.py\u001b[0m in \u001b[0;36mcrawl\u001b[1;34m(self, url)\u001b[0m\n\u001b[0;32m     30\u001b[0m \u001b[1;33m\u001b[0m\u001b[0m\n\u001b[0;32m     31\u001b[0m     \u001b[1;32mdef\u001b[0m \u001b[0mcrawl\u001b[0m\u001b[1;33m(\u001b[0m\u001b[0mself\u001b[0m\u001b[1;33m,\u001b[0m \u001b[0murl\u001b[0m\u001b[1;33m)\u001b[0m\u001b[1;33m:\u001b[0m\u001b[1;33m\u001b[0m\u001b[1;33m\u001b[0m\u001b[0m\n\u001b[1;32m---> 32\u001b[1;33m         \u001b[0mhtml\u001b[0m \u001b[1;33m=\u001b[0m \u001b[0mself\u001b[0m\u001b[1;33m.\u001b[0m\u001b[0mdownload_url\u001b[0m\u001b[1;33m(\u001b[0m\u001b[0murl\u001b[0m\u001b[1;33m)\u001b[0m\u001b[1;33m\u001b[0m\u001b[1;33m\u001b[0m\u001b[0m\n\u001b[0m\u001b[0;32m     33\u001b[0m         \u001b[1;32mfor\u001b[0m \u001b[0murl\u001b[0m \u001b[1;32min\u001b[0m \u001b[0mself\u001b[0m\u001b[1;33m.\u001b[0m\u001b[0mget_linked_urls\u001b[0m\u001b[1;33m(\u001b[0m\u001b[0murl\u001b[0m\u001b[1;33m,\u001b[0m \u001b[0mhtml\u001b[0m\u001b[1;33m)\u001b[0m\u001b[1;33m:\u001b[0m\u001b[1;33m\u001b[0m\u001b[1;33m\u001b[0m\u001b[0m\n\u001b[0;32m     34\u001b[0m             \u001b[0mself\u001b[0m\u001b[1;33m.\u001b[0m\u001b[0madd_url_to_visit\u001b[0m\u001b[1;33m(\u001b[0m\u001b[0murl\u001b[0m\u001b[1;33m)\u001b[0m\u001b[1;33m\u001b[0m\u001b[1;33m\u001b[0m\u001b[0m\n",
      "\u001b[1;32m~\\AppData\\Local\\Temp/ipykernel_22404/3822568658.py\u001b[0m in \u001b[0;36mdownload_url\u001b[1;34m(self, url)\u001b[0m\n\u001b[0;32m     15\u001b[0m \u001b[1;33m\u001b[0m\u001b[0m\n\u001b[0;32m     16\u001b[0m     \u001b[1;32mdef\u001b[0m \u001b[0mdownload_url\u001b[0m\u001b[1;33m(\u001b[0m\u001b[0mself\u001b[0m\u001b[1;33m,\u001b[0m \u001b[0murl\u001b[0m\u001b[1;33m)\u001b[0m\u001b[1;33m:\u001b[0m\u001b[1;33m\u001b[0m\u001b[1;33m\u001b[0m\u001b[0m\n\u001b[1;32m---> 17\u001b[1;33m         \u001b[1;32mreturn\u001b[0m \u001b[0mrequests\u001b[0m\u001b[1;33m.\u001b[0m\u001b[0mget\u001b[0m\u001b[1;33m(\u001b[0m\u001b[0murl\u001b[0m\u001b[1;33m)\u001b[0m\u001b[1;33m.\u001b[0m\u001b[0mtext\u001b[0m\u001b[1;33m\u001b[0m\u001b[1;33m\u001b[0m\u001b[0m\n\u001b[0m\u001b[0;32m     18\u001b[0m \u001b[1;33m\u001b[0m\u001b[0m\n\u001b[0;32m     19\u001b[0m     \u001b[1;32mdef\u001b[0m \u001b[0mget_linked_urls\u001b[0m\u001b[1;33m(\u001b[0m\u001b[0mself\u001b[0m\u001b[1;33m,\u001b[0m \u001b[0murl\u001b[0m\u001b[1;33m,\u001b[0m \u001b[0mhtml\u001b[0m\u001b[1;33m)\u001b[0m\u001b[1;33m:\u001b[0m\u001b[1;33m\u001b[0m\u001b[1;33m\u001b[0m\u001b[0m\n",
      "\u001b[1;32m~\\AppData\\Local\\Programs\\Python\\Python310\\lib\\site-packages\\requests\\api.py\u001b[0m in \u001b[0;36mget\u001b[1;34m(url, params, **kwargs)\u001b[0m\n\u001b[0;32m     73\u001b[0m     \"\"\"\n\u001b[0;32m     74\u001b[0m \u001b[1;33m\u001b[0m\u001b[0m\n\u001b[1;32m---> 75\u001b[1;33m     \u001b[1;32mreturn\u001b[0m \u001b[0mrequest\u001b[0m\u001b[1;33m(\u001b[0m\u001b[1;34m'get'\u001b[0m\u001b[1;33m,\u001b[0m \u001b[0murl\u001b[0m\u001b[1;33m,\u001b[0m \u001b[0mparams\u001b[0m\u001b[1;33m=\u001b[0m\u001b[0mparams\u001b[0m\u001b[1;33m,\u001b[0m \u001b[1;33m**\u001b[0m\u001b[0mkwargs\u001b[0m\u001b[1;33m)\u001b[0m\u001b[1;33m\u001b[0m\u001b[1;33m\u001b[0m\u001b[0m\n\u001b[0m\u001b[0;32m     76\u001b[0m \u001b[1;33m\u001b[0m\u001b[0m\n\u001b[0;32m     77\u001b[0m \u001b[1;33m\u001b[0m\u001b[0m\n",
      "\u001b[1;32m~\\AppData\\Local\\Programs\\Python\\Python310\\lib\\site-packages\\requests\\api.py\u001b[0m in \u001b[0;36mrequest\u001b[1;34m(method, url, **kwargs)\u001b[0m\n\u001b[0;32m     59\u001b[0m     \u001b[1;31m# cases, and look like a memory leak in others.\u001b[0m\u001b[1;33m\u001b[0m\u001b[1;33m\u001b[0m\u001b[0m\n\u001b[0;32m     60\u001b[0m     \u001b[1;32mwith\u001b[0m \u001b[0msessions\u001b[0m\u001b[1;33m.\u001b[0m\u001b[0mSession\u001b[0m\u001b[1;33m(\u001b[0m\u001b[1;33m)\u001b[0m \u001b[1;32mas\u001b[0m \u001b[0msession\u001b[0m\u001b[1;33m:\u001b[0m\u001b[1;33m\u001b[0m\u001b[1;33m\u001b[0m\u001b[0m\n\u001b[1;32m---> 61\u001b[1;33m         \u001b[1;32mreturn\u001b[0m \u001b[0msession\u001b[0m\u001b[1;33m.\u001b[0m\u001b[0mrequest\u001b[0m\u001b[1;33m(\u001b[0m\u001b[0mmethod\u001b[0m\u001b[1;33m=\u001b[0m\u001b[0mmethod\u001b[0m\u001b[1;33m,\u001b[0m \u001b[0murl\u001b[0m\u001b[1;33m=\u001b[0m\u001b[0murl\u001b[0m\u001b[1;33m,\u001b[0m \u001b[1;33m**\u001b[0m\u001b[0mkwargs\u001b[0m\u001b[1;33m)\u001b[0m\u001b[1;33m\u001b[0m\u001b[1;33m\u001b[0m\u001b[0m\n\u001b[0m\u001b[0;32m     62\u001b[0m \u001b[1;33m\u001b[0m\u001b[0m\n\u001b[0;32m     63\u001b[0m \u001b[1;33m\u001b[0m\u001b[0m\n",
      "\u001b[1;32m~\\AppData\\Local\\Programs\\Python\\Python310\\lib\\site-packages\\requests\\sessions.py\u001b[0m in \u001b[0;36mrequest\u001b[1;34m(self, method, url, params, data, headers, cookies, files, auth, timeout, allow_redirects, proxies, hooks, stream, verify, cert, json)\u001b[0m\n\u001b[0;32m    527\u001b[0m         }\n\u001b[0;32m    528\u001b[0m         \u001b[0msend_kwargs\u001b[0m\u001b[1;33m.\u001b[0m\u001b[0mupdate\u001b[0m\u001b[1;33m(\u001b[0m\u001b[0msettings\u001b[0m\u001b[1;33m)\u001b[0m\u001b[1;33m\u001b[0m\u001b[1;33m\u001b[0m\u001b[0m\n\u001b[1;32m--> 529\u001b[1;33m         \u001b[0mresp\u001b[0m \u001b[1;33m=\u001b[0m \u001b[0mself\u001b[0m\u001b[1;33m.\u001b[0m\u001b[0msend\u001b[0m\u001b[1;33m(\u001b[0m\u001b[0mprep\u001b[0m\u001b[1;33m,\u001b[0m \u001b[1;33m**\u001b[0m\u001b[0msend_kwargs\u001b[0m\u001b[1;33m)\u001b[0m\u001b[1;33m\u001b[0m\u001b[1;33m\u001b[0m\u001b[0m\n\u001b[0m\u001b[0;32m    530\u001b[0m \u001b[1;33m\u001b[0m\u001b[0m\n\u001b[0;32m    531\u001b[0m         \u001b[1;32mreturn\u001b[0m \u001b[0mresp\u001b[0m\u001b[1;33m\u001b[0m\u001b[1;33m\u001b[0m\u001b[0m\n",
      "\u001b[1;32m~\\AppData\\Local\\Programs\\Python\\Python310\\lib\\site-packages\\requests\\sessions.py\u001b[0m in \u001b[0;36msend\u001b[1;34m(self, request, **kwargs)\u001b[0m\n\u001b[0;32m    685\u001b[0m \u001b[1;33m\u001b[0m\u001b[0m\n\u001b[0;32m    686\u001b[0m         \u001b[1;32mif\u001b[0m \u001b[1;32mnot\u001b[0m \u001b[0mstream\u001b[0m\u001b[1;33m:\u001b[0m\u001b[1;33m\u001b[0m\u001b[1;33m\u001b[0m\u001b[0m\n\u001b[1;32m--> 687\u001b[1;33m             \u001b[0mr\u001b[0m\u001b[1;33m.\u001b[0m\u001b[0mcontent\u001b[0m\u001b[1;33m\u001b[0m\u001b[1;33m\u001b[0m\u001b[0m\n\u001b[0m\u001b[0;32m    688\u001b[0m \u001b[1;33m\u001b[0m\u001b[0m\n\u001b[0;32m    689\u001b[0m         \u001b[1;32mreturn\u001b[0m \u001b[0mr\u001b[0m\u001b[1;33m\u001b[0m\u001b[1;33m\u001b[0m\u001b[0m\n",
      "\u001b[1;32m~\\AppData\\Local\\Programs\\Python\\Python310\\lib\\site-packages\\requests\\models.py\u001b[0m in \u001b[0;36mcontent\u001b[1;34m(self)\u001b[0m\n\u001b[0;32m    836\u001b[0m                 \u001b[0mself\u001b[0m\u001b[1;33m.\u001b[0m\u001b[0m_content\u001b[0m \u001b[1;33m=\u001b[0m \u001b[1;32mNone\u001b[0m\u001b[1;33m\u001b[0m\u001b[1;33m\u001b[0m\u001b[0m\n\u001b[0;32m    837\u001b[0m             \u001b[1;32melse\u001b[0m\u001b[1;33m:\u001b[0m\u001b[1;33m\u001b[0m\u001b[1;33m\u001b[0m\u001b[0m\n\u001b[1;32m--> 838\u001b[1;33m                 \u001b[0mself\u001b[0m\u001b[1;33m.\u001b[0m\u001b[0m_content\u001b[0m \u001b[1;33m=\u001b[0m \u001b[1;34mb''\u001b[0m\u001b[1;33m.\u001b[0m\u001b[0mjoin\u001b[0m\u001b[1;33m(\u001b[0m\u001b[0mself\u001b[0m\u001b[1;33m.\u001b[0m\u001b[0miter_content\u001b[0m\u001b[1;33m(\u001b[0m\u001b[0mCONTENT_CHUNK_SIZE\u001b[0m\u001b[1;33m)\u001b[0m\u001b[1;33m)\u001b[0m \u001b[1;32mor\u001b[0m \u001b[1;34mb''\u001b[0m\u001b[1;33m\u001b[0m\u001b[1;33m\u001b[0m\u001b[0m\n\u001b[0m\u001b[0;32m    839\u001b[0m \u001b[1;33m\u001b[0m\u001b[0m\n\u001b[0;32m    840\u001b[0m         \u001b[0mself\u001b[0m\u001b[1;33m.\u001b[0m\u001b[0m_content_consumed\u001b[0m \u001b[1;33m=\u001b[0m \u001b[1;32mTrue\u001b[0m\u001b[1;33m\u001b[0m\u001b[1;33m\u001b[0m\u001b[0m\n",
      "\u001b[1;32m~\\AppData\\Local\\Programs\\Python\\Python310\\lib\\site-packages\\requests\\models.py\u001b[0m in \u001b[0;36mgenerate\u001b[1;34m()\u001b[0m\n\u001b[0;32m    758\u001b[0m             \u001b[1;32mif\u001b[0m \u001b[0mhasattr\u001b[0m\u001b[1;33m(\u001b[0m\u001b[0mself\u001b[0m\u001b[1;33m.\u001b[0m\u001b[0mraw\u001b[0m\u001b[1;33m,\u001b[0m \u001b[1;34m'stream'\u001b[0m\u001b[1;33m)\u001b[0m\u001b[1;33m:\u001b[0m\u001b[1;33m\u001b[0m\u001b[1;33m\u001b[0m\u001b[0m\n\u001b[0;32m    759\u001b[0m                 \u001b[1;32mtry\u001b[0m\u001b[1;33m:\u001b[0m\u001b[1;33m\u001b[0m\u001b[1;33m\u001b[0m\u001b[0m\n\u001b[1;32m--> 760\u001b[1;33m                     \u001b[1;32mfor\u001b[0m \u001b[0mchunk\u001b[0m \u001b[1;32min\u001b[0m \u001b[0mself\u001b[0m\u001b[1;33m.\u001b[0m\u001b[0mraw\u001b[0m\u001b[1;33m.\u001b[0m\u001b[0mstream\u001b[0m\u001b[1;33m(\u001b[0m\u001b[0mchunk_size\u001b[0m\u001b[1;33m,\u001b[0m \u001b[0mdecode_content\u001b[0m\u001b[1;33m=\u001b[0m\u001b[1;32mTrue\u001b[0m\u001b[1;33m)\u001b[0m\u001b[1;33m:\u001b[0m\u001b[1;33m\u001b[0m\u001b[1;33m\u001b[0m\u001b[0m\n\u001b[0m\u001b[0;32m    761\u001b[0m                         \u001b[1;32myield\u001b[0m \u001b[0mchunk\u001b[0m\u001b[1;33m\u001b[0m\u001b[1;33m\u001b[0m\u001b[0m\n\u001b[0;32m    762\u001b[0m                 \u001b[1;32mexcept\u001b[0m \u001b[0mProtocolError\u001b[0m \u001b[1;32mas\u001b[0m \u001b[0me\u001b[0m\u001b[1;33m:\u001b[0m\u001b[1;33m\u001b[0m\u001b[1;33m\u001b[0m\u001b[0m\n",
      "\u001b[1;32m~\\AppData\\Local\\Programs\\Python\\Python310\\lib\\site-packages\\urllib3\\response.py\u001b[0m in \u001b[0;36mstream\u001b[1;34m(self, amt, decode_content)\u001b[0m\n\u001b[0;32m    570\u001b[0m         \"\"\"\n\u001b[0;32m    571\u001b[0m         \u001b[1;32mif\u001b[0m \u001b[0mself\u001b[0m\u001b[1;33m.\u001b[0m\u001b[0mchunked\u001b[0m \u001b[1;32mand\u001b[0m \u001b[0mself\u001b[0m\u001b[1;33m.\u001b[0m\u001b[0msupports_chunked_reads\u001b[0m\u001b[1;33m(\u001b[0m\u001b[1;33m)\u001b[0m\u001b[1;33m:\u001b[0m\u001b[1;33m\u001b[0m\u001b[1;33m\u001b[0m\u001b[0m\n\u001b[1;32m--> 572\u001b[1;33m             \u001b[1;32mfor\u001b[0m \u001b[0mline\u001b[0m \u001b[1;32min\u001b[0m \u001b[0mself\u001b[0m\u001b[1;33m.\u001b[0m\u001b[0mread_chunked\u001b[0m\u001b[1;33m(\u001b[0m\u001b[0mamt\u001b[0m\u001b[1;33m,\u001b[0m \u001b[0mdecode_content\u001b[0m\u001b[1;33m=\u001b[0m\u001b[0mdecode_content\u001b[0m\u001b[1;33m)\u001b[0m\u001b[1;33m:\u001b[0m\u001b[1;33m\u001b[0m\u001b[1;33m\u001b[0m\u001b[0m\n\u001b[0m\u001b[0;32m    573\u001b[0m                 \u001b[1;32myield\u001b[0m \u001b[0mline\u001b[0m\u001b[1;33m\u001b[0m\u001b[1;33m\u001b[0m\u001b[0m\n\u001b[0;32m    574\u001b[0m         \u001b[1;32melse\u001b[0m\u001b[1;33m:\u001b[0m\u001b[1;33m\u001b[0m\u001b[1;33m\u001b[0m\u001b[0m\n",
      "\u001b[1;32m~\\AppData\\Local\\Programs\\Python\\Python310\\lib\\site-packages\\urllib3\\response.py\u001b[0m in \u001b[0;36mread_chunked\u001b[1;34m(self, amt, decode_content)\u001b[0m\n\u001b[0;32m    762\u001b[0m \u001b[1;33m\u001b[0m\u001b[0m\n\u001b[0;32m    763\u001b[0m             \u001b[1;32mwhile\u001b[0m \u001b[1;32mTrue\u001b[0m\u001b[1;33m:\u001b[0m\u001b[1;33m\u001b[0m\u001b[1;33m\u001b[0m\u001b[0m\n\u001b[1;32m--> 764\u001b[1;33m                 \u001b[0mself\u001b[0m\u001b[1;33m.\u001b[0m\u001b[0m_update_chunk_length\u001b[0m\u001b[1;33m(\u001b[0m\u001b[1;33m)\u001b[0m\u001b[1;33m\u001b[0m\u001b[1;33m\u001b[0m\u001b[0m\n\u001b[0m\u001b[0;32m    765\u001b[0m                 \u001b[1;32mif\u001b[0m \u001b[0mself\u001b[0m\u001b[1;33m.\u001b[0m\u001b[0mchunk_left\u001b[0m \u001b[1;33m==\u001b[0m \u001b[1;36m0\u001b[0m\u001b[1;33m:\u001b[0m\u001b[1;33m\u001b[0m\u001b[1;33m\u001b[0m\u001b[0m\n\u001b[0;32m    766\u001b[0m                     \u001b[1;32mbreak\u001b[0m\u001b[1;33m\u001b[0m\u001b[1;33m\u001b[0m\u001b[0m\n",
      "\u001b[1;32m~\\AppData\\Local\\Programs\\Python\\Python310\\lib\\site-packages\\urllib3\\response.py\u001b[0m in \u001b[0;36m_update_chunk_length\u001b[1;34m(self)\u001b[0m\n\u001b[0;32m    692\u001b[0m         \u001b[1;32mif\u001b[0m \u001b[0mself\u001b[0m\u001b[1;33m.\u001b[0m\u001b[0mchunk_left\u001b[0m \u001b[1;32mis\u001b[0m \u001b[1;32mnot\u001b[0m \u001b[1;32mNone\u001b[0m\u001b[1;33m:\u001b[0m\u001b[1;33m\u001b[0m\u001b[1;33m\u001b[0m\u001b[0m\n\u001b[0;32m    693\u001b[0m             \u001b[1;32mreturn\u001b[0m\u001b[1;33m\u001b[0m\u001b[1;33m\u001b[0m\u001b[0m\n\u001b[1;32m--> 694\u001b[1;33m         \u001b[0mline\u001b[0m \u001b[1;33m=\u001b[0m \u001b[0mself\u001b[0m\u001b[1;33m.\u001b[0m\u001b[0m_fp\u001b[0m\u001b[1;33m.\u001b[0m\u001b[0mfp\u001b[0m\u001b[1;33m.\u001b[0m\u001b[0mreadline\u001b[0m\u001b[1;33m(\u001b[0m\u001b[1;33m)\u001b[0m\u001b[1;33m\u001b[0m\u001b[1;33m\u001b[0m\u001b[0m\n\u001b[0m\u001b[0;32m    695\u001b[0m         \u001b[0mline\u001b[0m \u001b[1;33m=\u001b[0m \u001b[0mline\u001b[0m\u001b[1;33m.\u001b[0m\u001b[0msplit\u001b[0m\u001b[1;33m(\u001b[0m\u001b[1;34mb\";\"\u001b[0m\u001b[1;33m,\u001b[0m \u001b[1;36m1\u001b[0m\u001b[1;33m)\u001b[0m\u001b[1;33m[\u001b[0m\u001b[1;36m0\u001b[0m\u001b[1;33m]\u001b[0m\u001b[1;33m\u001b[0m\u001b[1;33m\u001b[0m\u001b[0m\n\u001b[0;32m    696\u001b[0m         \u001b[1;32mtry\u001b[0m\u001b[1;33m:\u001b[0m\u001b[1;33m\u001b[0m\u001b[1;33m\u001b[0m\u001b[0m\n",
      "\u001b[1;32m~\\AppData\\Local\\Programs\\Python\\Python310\\lib\\socket.py\u001b[0m in \u001b[0;36mreadinto\u001b[1;34m(self, b)\u001b[0m\n\u001b[0;32m    703\u001b[0m         \u001b[1;32mwhile\u001b[0m \u001b[1;32mTrue\u001b[0m\u001b[1;33m:\u001b[0m\u001b[1;33m\u001b[0m\u001b[1;33m\u001b[0m\u001b[0m\n\u001b[0;32m    704\u001b[0m             \u001b[1;32mtry\u001b[0m\u001b[1;33m:\u001b[0m\u001b[1;33m\u001b[0m\u001b[1;33m\u001b[0m\u001b[0m\n\u001b[1;32m--> 705\u001b[1;33m                 \u001b[1;32mreturn\u001b[0m \u001b[0mself\u001b[0m\u001b[1;33m.\u001b[0m\u001b[0m_sock\u001b[0m\u001b[1;33m.\u001b[0m\u001b[0mrecv_into\u001b[0m\u001b[1;33m(\u001b[0m\u001b[0mb\u001b[0m\u001b[1;33m)\u001b[0m\u001b[1;33m\u001b[0m\u001b[1;33m\u001b[0m\u001b[0m\n\u001b[0m\u001b[0;32m    706\u001b[0m             \u001b[1;32mexcept\u001b[0m \u001b[0mtimeout\u001b[0m\u001b[1;33m:\u001b[0m\u001b[1;33m\u001b[0m\u001b[1;33m\u001b[0m\u001b[0m\n\u001b[0;32m    707\u001b[0m                 \u001b[0mself\u001b[0m\u001b[1;33m.\u001b[0m\u001b[0m_timeout_occurred\u001b[0m \u001b[1;33m=\u001b[0m \u001b[1;32mTrue\u001b[0m\u001b[1;33m\u001b[0m\u001b[1;33m\u001b[0m\u001b[0m\n",
      "\u001b[1;32m~\\AppData\\Local\\Programs\\Python\\Python310\\lib\\ssl.py\u001b[0m in \u001b[0;36mrecv_into\u001b[1;34m(self, buffer, nbytes, flags)\u001b[0m\n\u001b[0;32m   1271\u001b[0m                   \u001b[1;34m\"non-zero flags not allowed in calls to recv_into() on %s\"\u001b[0m \u001b[1;33m%\u001b[0m\u001b[1;33m\u001b[0m\u001b[1;33m\u001b[0m\u001b[0m\n\u001b[0;32m   1272\u001b[0m                   self.__class__)\n\u001b[1;32m-> 1273\u001b[1;33m             \u001b[1;32mreturn\u001b[0m \u001b[0mself\u001b[0m\u001b[1;33m.\u001b[0m\u001b[0mread\u001b[0m\u001b[1;33m(\u001b[0m\u001b[0mnbytes\u001b[0m\u001b[1;33m,\u001b[0m \u001b[0mbuffer\u001b[0m\u001b[1;33m)\u001b[0m\u001b[1;33m\u001b[0m\u001b[1;33m\u001b[0m\u001b[0m\n\u001b[0m\u001b[0;32m   1274\u001b[0m         \u001b[1;32melse\u001b[0m\u001b[1;33m:\u001b[0m\u001b[1;33m\u001b[0m\u001b[1;33m\u001b[0m\u001b[0m\n\u001b[0;32m   1275\u001b[0m             \u001b[1;32mreturn\u001b[0m \u001b[0msuper\u001b[0m\u001b[1;33m(\u001b[0m\u001b[1;33m)\u001b[0m\u001b[1;33m.\u001b[0m\u001b[0mrecv_into\u001b[0m\u001b[1;33m(\u001b[0m\u001b[0mbuffer\u001b[0m\u001b[1;33m,\u001b[0m \u001b[0mnbytes\u001b[0m\u001b[1;33m,\u001b[0m \u001b[0mflags\u001b[0m\u001b[1;33m)\u001b[0m\u001b[1;33m\u001b[0m\u001b[1;33m\u001b[0m\u001b[0m\n",
      "\u001b[1;32m~\\AppData\\Local\\Programs\\Python\\Python310\\lib\\ssl.py\u001b[0m in \u001b[0;36mread\u001b[1;34m(self, len, buffer)\u001b[0m\n\u001b[0;32m   1127\u001b[0m         \u001b[1;32mtry\u001b[0m\u001b[1;33m:\u001b[0m\u001b[1;33m\u001b[0m\u001b[1;33m\u001b[0m\u001b[0m\n\u001b[0;32m   1128\u001b[0m             \u001b[1;32mif\u001b[0m \u001b[0mbuffer\u001b[0m \u001b[1;32mis\u001b[0m \u001b[1;32mnot\u001b[0m \u001b[1;32mNone\u001b[0m\u001b[1;33m:\u001b[0m\u001b[1;33m\u001b[0m\u001b[1;33m\u001b[0m\u001b[0m\n\u001b[1;32m-> 1129\u001b[1;33m                 \u001b[1;32mreturn\u001b[0m \u001b[0mself\u001b[0m\u001b[1;33m.\u001b[0m\u001b[0m_sslobj\u001b[0m\u001b[1;33m.\u001b[0m\u001b[0mread\u001b[0m\u001b[1;33m(\u001b[0m\u001b[0mlen\u001b[0m\u001b[1;33m,\u001b[0m \u001b[0mbuffer\u001b[0m\u001b[1;33m)\u001b[0m\u001b[1;33m\u001b[0m\u001b[1;33m\u001b[0m\u001b[0m\n\u001b[0m\u001b[0;32m   1130\u001b[0m             \u001b[1;32melse\u001b[0m\u001b[1;33m:\u001b[0m\u001b[1;33m\u001b[0m\u001b[1;33m\u001b[0m\u001b[0m\n\u001b[0;32m   1131\u001b[0m                 \u001b[1;32mreturn\u001b[0m \u001b[0mself\u001b[0m\u001b[1;33m.\u001b[0m\u001b[0m_sslobj\u001b[0m\u001b[1;33m.\u001b[0m\u001b[0mread\u001b[0m\u001b[1;33m(\u001b[0m\u001b[0mlen\u001b[0m\u001b[1;33m)\u001b[0m\u001b[1;33m\u001b[0m\u001b[1;33m\u001b[0m\u001b[0m\n",
      "\u001b[1;31mKeyboardInterrupt\u001b[0m: "
     ]
    }
   ],
   "source": []
  },
  {
   "cell_type": "code",
   "execution_count": 1,
   "id": "75f21aa1",
   "metadata": {},
   "outputs": [],
   "source": [
    "class crawl_manage:\n",
    "    def __init__(self,url):\n",
    "        self.url = url\n",
    "        self.all_url = []\n",
    "    def get_req(self,url):\n",
    "        return requests.get(url).text\n",
    "    def get_soup(self,req):\n",
    "        return BeautifulSoup(req,'html.parser')\n",
    "       \n",
    "            \n",
    "    def append_link2list(self,link):\n",
    "        if link not in self.all_url :\n",
    "            self.all_url.append(link)\n",
    "    def crawl(self,url):\n",
    "        req = self.get_req(url)\n",
    "        soup = self.get_soup(req)\n",
    "        \n",
    "        for i in soup.find_all('a'):\n",
    "            try:\n",
    "                if i['href'].startswith('/'):\n",
    "                    link = urljoin(url,i['href'])\n",
    "                    self.append_link2list(link)\n",
    "                elif i['href'].startswith('h'):\n",
    "                    link = i['href']\n",
    "                    self.append_link2list(link)\n",
    "                else:\n",
    "                    pass\n",
    "            except:\n",
    "                pass\n",
    "            \n",
    "    def get_all_url(self):\n",
    "        return self.all_url\n",
    "            \n",
    "    \n",
    "    "
   ]
  },
  {
   "cell_type": "code",
   "execution_count": 2,
   "id": "60f9fcba",
   "metadata": {},
   "outputs": [],
   "source": [
    "def count_words(url, keyword):\n",
    "    r = requests.get(url, allow_redirects=False)\n",
    "    soup = BeautifulSoup(r.content, 'lxml')\n",
    "    words = soup.find(text=lambda text: text and keyword in text)\n",
    "    try:\n",
    "        return len(words)\n",
    "    except:\n",
    "        return 0\n"
   ]
  },
  {
   "cell_type": "code",
   "execution_count": null,
   "id": "5bb0699b",
   "metadata": {},
   "outputs": [],
   "source": []
  },
  {
   "cell_type": "code",
   "execution_count": null,
   "id": "117bb03c",
   "metadata": {},
   "outputs": [],
   "source": []
  },
  {
   "cell_type": "code",
   "execution_count": 15,
   "id": "cd1a4220",
   "metadata": {
    "scrolled": true
   },
   "outputs": [
    {
     "data": {
      "text/plain": [
       "['https://www.gamespot.com/articles/where-is-xur-today-march-18-22-destiny-2-xur-location-and-exotics-guide/1100-6501646/',\n",
       " 'https://gamespot.com/articles/bungie-outlines-destiny-2s-upcoming-season-of-the-risen-activities/1100-6501640/',\n",
       " 'https://www.gamespot.com/articles/elden-ring-millicent-quest-guide/1100-6501520/',\n",
       " 'https://www.gamespot.com/reviews/elden-ring-review-death-of-the-wild/1900-6417832/',\n",
       " 'https://www.gamespot.com/articles/elden-ring-dung-eater-quest-guide/1100-6501519/',\n",
       " 'https://www.gamespot.com/articles/elden-ring-ranni-the-witch-quest-guide/1100-6501460/',\n",
       " 'https://www.gamespot.com/',\n",
       " 'https://www.gamespot.com/login-signup/',\n",
       " 'https://www.gamespot.com/articles/elden-ring-guides-hub-classes-summons-and-more/1100-6501032/',\n",
       " 'https://www.gamespot.com/news/',\n",
       " 'https://www.gamespot.com/videos/',\n",
       " 'https://www.gamespot.com/games/reviews/',\n",
       " 'https://www.gamespot.com/entertainment/reviews/',\n",
       " 'https://www.gamespot.com/best-lists/',\n",
       " 'https://www.gamespot.com/articles/best-gaming-chair-2022-top-picks-for-comfort-and-style/1100-6486393/',\n",
       " 'https://www.gamespot.com/articles/best-4k-tv-for-gaming/1100-6482374/',\n",
       " 'https://www.gamespot.com/articles/the-10-best-ps5-headsets-in-2022/1100-6482578/',\n",
       " 'https://www.gamespot.com/articles/best-gaming-monitors-for-ps5-and-xbox-series-x-in-2022/1100-6488680/',\n",
       " 'https://www.gamespot.com/deals/',\n",
       " 'https://www.gamespot.com/gift-ideas/',\n",
       " 'https://store.gamespot.com/',\n",
       " 'https://www.gamespot.com/games/',\n",
       " 'https://www.gamespot.com/games/pc/',\n",
       " 'https://www.gamespot.com/playstation/',\n",
       " 'https://www.gamespot.com/games/ps4/',\n",
       " 'https://www.gamespot.com/games/xbox-series-x/',\n",
       " 'https://www.gamespot.com/games/xbox-one/',\n",
       " 'https://www.gamespot.com/games/nintendo-switch/',\n",
       " 'https://www.gamespot.com/guides/',\n",
       " 'https://www.gamespot.com/gametech/',\n",
       " 'https://www.gamespot.com/games/mobile-gaming/',\n",
       " 'https://www.gamespot.com/cloud-gaming-hub/',\n",
       " 'https://www.gamespot.com/articles/ps-plus-free-games-for-february-are-available-now/1100-6499984/',\n",
       " 'https://www.gamespot.com/articles/three-new-star-wars-games-are-coming-from-ea-including-fps/1100-6499933/',\n",
       " 'https://www.gamespot.com/articles/best-nintendo-switch-deals-in-january-2022/1100-6489802/',\n",
       " 'https://www.gamespot.com/entertainment/',\n",
       " 'https://www.gamespot.com/entertainment/movies/',\n",
       " 'https://www.gamespot.com/entertainment/tv/',\n",
       " 'https://www.gamespot.com/forums/',\n",
       " 'https://www.gamespot.com/articles/jk-rowlings-anti-transgender-stance-and-hogwarts-legacy/1100-6501632/',\n",
       " 'https://www.gamespot.com/articles/stranger-of-paradise-final-fantasy-origin-tips-for-beginners/1100-6501670/',\n",
       " 'https://www.gamespot.com/articles/friday-nite-fortnite-season-2-may-awkwardly-launch-amid-real-life-war/1100-6501711/',\n",
       " 'https://www.gamespot.com/articles/everything-you-need-to-know-about-the-guilty-gear-strive-arcrevo-america-finals/1100-6501477/',\n",
       " 'https://www.gamespot.com/articles/mario-kart-8-deluxe-booster-course-dlc-release-date-tracks-and-everything-we-know/1100-6501555/',\n",
       " 'https://www.gamespot.com/reviews/halo-review-master-chief-finally-comes-to-tv-and-it-was-worth-the-wait/1900-6417847/',\n",
       " 'https://www.gamespot.com/reviews/tunic-review-fox-die/1900-6417845/',\n",
       " 'https://www.gamespot.com/gallery/every-gamespot-10-10-review-score/2900-153/',\n",
       " 'https://www.gamespot.com/articles/elden-ring-sorceress-sellen-quest-guide/1100-6501705/',\n",
       " 'https://www.gamespot.com/articles/elden-ring-caelid-guide-important-locations-bosses-dangers-and-secrets/1100-6501710/',\n",
       " 'https://www.gamespot.com/videos/mario-kart-8-deluxe-booster-course-pass-graphics-comparison/2300-6457696/',\n",
       " 'https://www.gamespot.com/articles/elden-ring-has-the-strongest-illusory-wall-weve-ever-seen/1100-6501708/',\n",
       " 'https://www.gamespot.com/videos/hogwarts-legacy-developer-reacts-to-microtransaction-rumors-gamespot-news/2300-6457692/',\n",
       " 'https://www.gamespot.com/articles/iron-banter-this-week-in-destiny-2-rhulking-out-crafting-crabbiness/1100-6501706/',\n",
       " 'https://www.gamespot.com/articles/overwatch-2-beta-starts-april-26-on-pc/1100-6501703/',\n",
       " 'https://www.gamespot.com/articles/elden-ring-brother-corhyn-and-goldmask-quest-guide/1100-6501704/',\n",
       " 'https://www.gamespot.com/articles/same-sex-kiss-in-toy-storys-lightyear-movie-restored-after-staff-uproar-over-dont-say-gay-bill/1100-6501701/',\n",
       " 'https://www.gamespot.com/articles/babylons-fall-season-2-is-practically-complete-and-theres-already-a-plan-for-more/1100-6501702/',\n",
       " 'https://www.gamespot.com/articles/tunic-where-to-find-the-shield/1100-6501699/',\n",
       " 'https://www.gamespot.com/articles/one-of-the-coolest-games-of-the-year-so-far-is-on-sale/1100-6501696/',\n",
       " 'https://www.gamespot.com/articles/how-to-dominate-elden-ring-pvp-according-to-the-experts-shaping-the-scene/1100-6501658/',\n",
       " 'https://www.gamespot.com/articles/grab-10-pc-racing-games-for-just-5-for-a-limited-time/1100-6501681/',\n",
       " 'https://www.gamespot.com/articles/elden-ring-how-to-get-blaidds-armor/1100-6501700/',\n",
       " 'https://www.gamespot.com/articles/elden-ring-fire-giant-boss-battle-guide/1100-6501697/',\n",
       " 'https://www.gamespot.com/articles/xbox-insider-update-removes-ability-to-upload-clips-directly-to-twitter/1100-6501698/',\n",
       " 'https://www.gamespot.com/articles/steam-deck-now-supports-xbox-cloud-streaming-through-edge-browser/1100-6501686/',\n",
       " 'https://www.gamespot.com/articles/halo-infinite-anti-cheat-update-in-game-player-reporting-feature-is-coming/1100-6501685/',\n",
       " 'https://www.gamespot.com/articles/humble-stand-with-ukraine-bundle-offers-100-games-books-and-software/1100-6501598/',\n",
       " 'https://www.gamespot.com/videos/destiny-2-the-witch-queen-where-is-xur-march-18-2022/2300-6457683/',\n",
       " 'https://www.gamespot.com/articles/activision-teases-snoop-dogg-dlc-for-warzone-vanguard-and-call-of-duty-mobile/1100-6501684/',\n",
       " 'https://www.gamespot.com/articles/lord-of-the-rings-online-is-making-a-ton-of-older-content-permanently-free/1100-6501683/',\n",
       " 'https://www.gamespot.com/gallery/highest-grossing-video-game-movies-of-all-time/2900-3968/',\n",
       " 'https://www.gamespot.com/articles/scream-6-release-date-set-for-march-31-2023/1100-6501682/',\n",
       " 'https://www.gamespot.com/articles/monster-hunter-rise-sunbreak-preorders-are-discounted-right-now/1100-6501677/',\n",
       " 'https://www.gamespot.com/articles/hogwarts-legacy-already-has-a-great-preorder-deal/1100-6501679/',\n",
       " 'https://www.gamespot.com/articles/jumanji-series-extends-to-theme-parks-more/1100-6501680/',\n",
       " 'https://www.gamespot.com/articles/new-world-content-roadmap-outlines-new-endgame-zone-weapon-and-more-for-later-this-year/1100-6501678/',\n",
       " 'https://www.gamespot.com/articles/ubisoft-aiming-to-make-games-with-limitless-worlds-thanks-to-new-tech-scalar/1100-6501642/',\n",
       " 'https://www.gamespot.com/articles/tunic-where-to-find-the-sword/1100-6501676/',\n",
       " 'https://www.gamespot.com/videos/stranger-of-paradise-final-fantasy-origin-launch-video/2300-6457677/',\n",
       " 'https://www.gamespot.com/articles/elden-ring-fia-quest-guide/1100-6501674/',\n",
       " 'https://www.gamespot.com/articles/game-pass-ultimate-subscribers-can-get-30-days-of-paramount-for-free-just-in-time-for-halo-show/1100-6501672/',\n",
       " 'https://www.gamespot.com/articles/gran-turismo-7-update-brings-it-back-online-after-a-day-dev-apologizes/1100-6501673/',\n",
       " 'https://www.gamespot.com/articles/elden-ring-mohg-boss-battle-guide-how-to-beat-the-lord-of-blood/1100-6501655/',\n",
       " 'https://www.gamespot.com/articles/game-of-thrones-illustrated-book-focusing-on-targaryens-coming-this-october/1100-6501671/',\n",
       " 'https://www.gamespot.com/articles/daniel-radcliffe-doesnt-want-to-do-any-more-harry-potter-right-now/1100-6501668/',\n",
       " 'https://www.gamespot.com/articles/genshin-impact-version-2-6-releases-on-march-30-adds-new-zone-and-five-star-character/1100-6501664/',\n",
       " 'https://www.gamespot.com/articles/hearthstone-voyage-to-the-sunken-city-card-reveal-hedra-the-heretic/1100-6501666/',\n",
       " 'https://www.gamespot.com/games/the-legend-of-zelda-breath-of-the-wild-2/',\n",
       " 'https://www.gamespot.com/games/god-of-war-ragnarok/',\n",
       " 'https://www.gamespot.com/games/the-elder-scrolls-vi/',\n",
       " 'https://www.gamespot.com/games/final-fantasy-xvi/',\n",
       " 'https://www.gamespot.com/games/star-wars-knights-of-the-old-republic-remake/',\n",
       " 'https://www.gamespot.com/games/diablo-iv/',\n",
       " 'https://www.gamespot.com/games/bayonetta-3/',\n",
       " 'https://www.gamespot.com/games/metroid-prime-4/',\n",
       " 'https://www.gamespot.com/games/overwatch-2/',\n",
       " 'https://www.gamespot.com/games/kirby-and-the-forgotten-land/',\n",
       " 'https://www.gamespot.com/gamespot-50/',\n",
       " 'https://www.gamespot.com/reviews/wwe-2k22-review-bad-times-dont-last/1900-6417846/',\n",
       " 'https://www.gamespot.com/reviews/stranger-of-paradise-final-fantasy-origin-review-chaos-incarnate/1900-6417844/',\n",
       " 'https://www.gamespot.com/reviews/puzzle-quest-3-review-more-puzzle-less-quest/1900-6417842/',\n",
       " 'https://www.gamespot.com/reviews/assassins-creed-valhalla-dawn-of-ragnarok-review-having-a-good-time/1900-6417841/',\n",
       " 'https://www.gamespot.com/reviews/triangle-strategy-review-were-talking-kings-and-successions/1900-6417840/',\n",
       " 'https://www.gamespot.com/reviews/total-war-warhammer-3-review-bed-of-chaos/1900-6417839/',\n",
       " 'https://www.gamespot.com/reviews/gran-turismo-7-review-round-we-go-again/1900-6417837/',\n",
       " 'https://www.gamespot.com/reviews/destiny-2-the-witch-queen-review-queens-gambit/1900-6417838/',\n",
       " 'https://www.gamespot.com/reviews/lost-ark-review-whyd-it-have-to-be-snakes/1900-6417834/',\n",
       " 'https://redventures.com/privacy-policy.html',\n",
       " 'https://redventures.com/CMG-terms-of-use.html',\n",
       " 'https://gamespot.zendesk.com/hc/en-us',\n",
       " 'https://careers.redventures.com/',\n",
       " 'https://privacyportal.onetrust.com/webform/79ba7c84-ebc2-4740-8d11-bf1cc4501e59/ae88e03f-2b16-4276-9980-27124ba4b2c1',\n",
       " 'https://www.giantbomb.com/',\n",
       " 'https://gamefaqs.gamespot.com/',\n",
       " 'https://www.metacritic.com/',\n",
       " 'https://www.gamespot.com/reviews/pc/',\n",
       " 'https://www.gamespot.com/reviews/ps4/',\n",
       " 'https://www.gamespot.com/reviews/xbox-one/',\n",
       " 'https://www.gamespot.com/reviews/nintendo-switch/',\n",
       " 'https://www.gamespot.com/games/ps5/',\n",
       " 'https://www.gamespot.com/shows/lorescape/',\n",
       " 'https://www.gamespot.com/shows/console-crew/',\n",
       " 'https://www.gamespot.com/shows/remember-when/',\n",
       " 'https://www.gamespot.com/shows/loadout/',\n",
       " 'https://www.gamespot.com/shows/true-fiction/',\n",
       " 'http://facebook.com/gamespot',\n",
       " 'http://twitter.com/gamespot',\n",
       " 'http://youtube.com/gamespot',\n",
       " 'http://instagram.com/gamespot',\n",
       " 'https://flipboard.com/@gamespot?utm_source=gamespot&utm_medium=follow&utm_campaign=tools',\n",
       " 'https://www.gamespot.com/feeds/',\n",
       " 'https://newsletter.gamespot.com/public/preference_center.jsp',\n",
       " 'http://facebook.com/GameSpotUniverse',\n",
       " 'http://twitter.com/gsuniverse',\n",
       " 'http://youtube.com/GameSpotUniverse']"
      ]
     },
     "execution_count": 15,
     "metadata": {},
     "output_type": "execute_result"
    }
   ],
   "source": [
    "\n",
    "from urllib.parse import urljoin\n",
    "import requests\n",
    "from bs4 import BeautifulSoup\n",
    "import pandas as pd\n",
    "\n",
    "my_url = 'https://www.gamespot.com/'\n",
    "a= crawl_manage(my_url)\n",
    "a.crawl(my_url)\n",
    "y =a.get_all_url()\n",
    "y"
   ]
  },
  {
   "cell_type": "code",
   "execution_count": 12,
   "id": "b064efde",
   "metadata": {},
   "outputs": [
    {
     "data": {
      "text/plain": [
       "37"
      ]
     },
     "execution_count": 12,
     "metadata": {},
     "output_type": "execute_result"
    }
   ],
   "source": [
    "keyword = 'News'\n",
    "url = 'https://www.gamespot.com/'\n",
    "res = count_words(url,keyword)\n",
    "res"
   ]
  },
  {
   "cell_type": "code",
   "execution_count": 30,
   "id": "ea176a8d",
   "metadata": {},
   "outputs": [],
   "source": [
    "key = 'News'\n",
    "url_list = ['https://www.gamespot.com/','https://www.pcgamer.com/news/','https://kotaku.com/']\n",
    "data = []\n",
    "for i in url_list:\n",
    "    d={}\n",
    "    res = count_words(i,key)\n",
    "    if 'www.' in i:\n",
    "        d['name'] = i.replace('https://www.',\"\").split('.')[0]\n",
    "    else:\n",
    "        d['name'] = i.replace('https://',\"\").split('.')[0]\n",
    "    d['url'] = i\n",
    "    d['total_key'] = res\n",
    "    data.append(d)\n",
    "    \n"
   ]
  },
  {
   "cell_type": "code",
   "execution_count": 31,
   "id": "4e74c3f5",
   "metadata": {},
   "outputs": [
    {
     "data": {
      "text/plain": [
       "[{'name': 'gamespot', 'url': 'https://www.gamespot.com/', 'total_key': 37},\n",
       " {'name': 'pcgamer', 'url': 'https://www.pcgamer.com/news/', 'total_key': 6},\n",
       " {'name': 'kotaku', 'url': 'https://kotaku.com/', 'total_key': 45}]"
      ]
     },
     "execution_count": 31,
     "metadata": {},
     "output_type": "execute_result"
    }
   ],
   "source": [
    "data"
   ]
  },
  {
   "cell_type": "code",
   "execution_count": 32,
   "id": "9c0353fc",
   "metadata": {},
   "outputs": [],
   "source": [
    "df =pd.DataFrame.from_dict(data)"
   ]
  },
  {
   "cell_type": "code",
   "execution_count": 33,
   "id": "d31992de",
   "metadata": {},
   "outputs": [
    {
     "data": {
      "text/html": [
       "<div>\n",
       "<style scoped>\n",
       "    .dataframe tbody tr th:only-of-type {\n",
       "        vertical-align: middle;\n",
       "    }\n",
       "\n",
       "    .dataframe tbody tr th {\n",
       "        vertical-align: top;\n",
       "    }\n",
       "\n",
       "    .dataframe thead th {\n",
       "        text-align: right;\n",
       "    }\n",
       "</style>\n",
       "<table border=\"1\" class=\"dataframe\">\n",
       "  <thead>\n",
       "    <tr style=\"text-align: right;\">\n",
       "      <th></th>\n",
       "      <th>name</th>\n",
       "      <th>url</th>\n",
       "      <th>total_key</th>\n",
       "    </tr>\n",
       "  </thead>\n",
       "  <tbody>\n",
       "    <tr>\n",
       "      <th>0</th>\n",
       "      <td>gamespot</td>\n",
       "      <td>https://www.gamespot.com/</td>\n",
       "      <td>37</td>\n",
       "    </tr>\n",
       "    <tr>\n",
       "      <th>1</th>\n",
       "      <td>pcgamer</td>\n",
       "      <td>https://www.pcgamer.com/news/</td>\n",
       "      <td>6</td>\n",
       "    </tr>\n",
       "    <tr>\n",
       "      <th>2</th>\n",
       "      <td>kotaku</td>\n",
       "      <td>https://kotaku.com/</td>\n",
       "      <td>45</td>\n",
       "    </tr>\n",
       "  </tbody>\n",
       "</table>\n",
       "</div>"
      ],
      "text/plain": [
       "       name                            url  total_key\n",
       "0  gamespot      https://www.gamespot.com/         37\n",
       "1   pcgamer  https://www.pcgamer.com/news/          6\n",
       "2    kotaku            https://kotaku.com/         45"
      ]
     },
     "execution_count": 33,
     "metadata": {},
     "output_type": "execute_result"
    }
   ],
   "source": [
    "df"
   ]
  },
  {
   "cell_type": "code",
   "execution_count": null,
   "id": "65f93dea",
   "metadata": {},
   "outputs": [],
   "source": []
  }
 ],
 "metadata": {
  "kernelspec": {
   "display_name": "Python 3 (ipykernel)",
   "language": "python",
   "name": "python3"
  },
  "language_info": {
   "codemirror_mode": {
    "name": "ipython",
    "version": 3
   },
   "file_extension": ".py",
   "mimetype": "text/x-python",
   "name": "python",
   "nbconvert_exporter": "python",
   "pygments_lexer": "ipython3",
   "version": "3.10.1"
  }
 },
 "nbformat": 4,
 "nbformat_minor": 5
}
