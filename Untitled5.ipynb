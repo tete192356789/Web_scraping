{
 "cells": [
  {
   "cell_type": "code",
   "execution_count": 4,
   "id": "31827eee",
   "metadata": {},
   "outputs": [],
   "source": [
    "from urllib.parse import urljoin\n",
    "import requests\n",
    "from bs4 import BeautifulSoup\n",
    "import pandas as pd\n",
    "import re\n",
    "import nltk\n",
    "from nltk import sent_tokenize\n",
    "from textblob import TextBlob\n",
    "from textblob.sentiments import NaiveBayesAnalyzer\n",
    "from nltk.corpus import stopwords\n",
    "import string \n",
    "from nltk.tokenize import word_tokenize\n",
    "import concurrent.futures\n",
    "from concurrent.futures import as_completed\n",
    "\n",
    "class manage():\n",
    "    def __init__(self,url):\n",
    "        self.domain_url = url\n",
    "        self.all_url = []\n",
    "\n",
    "    def get_req(self,url):\n",
    "        return requests.get(url, allow_redirects=False).text\n",
    "\n",
    "    def get_soup(self,req):\n",
    "        return BeautifulSoup(req,'html.parser')\n",
    "\n",
    "    def crawl(self,url):\n",
    "    \n",
    "        req = self.get_req(url)\n",
    "        soup = self.get_soup(req)\n",
    "        \n",
    "        for i in soup.find_all('a'):\n",
    "            \n",
    "            try:\n",
    "                if i['href'].startswith('/'):\n",
    "                    link = urljoin(url,i.get('href'))\n",
    "                    self.all_url.append(link)\n",
    "                    #crawl(link)\n",
    "                elif i['href'].startswith('h'):\n",
    "                    link = i.get('href')\n",
    "                    self.all_url.append(link)\n",
    "                    #crawl(link)\n",
    "                    \n",
    "            except:\n",
    "                pass\n",
    "        return self.all_url\n",
    "    \n",
    "    def get_content_manager(self):\n",
    "        with concurrent.futures.ThreadPoolExecutor(100) as executor:\n",
    "            if len(self.all_url) != 0:\n",
    "                \n",
    "                results = [ executor.submit(self.crawl, i) for i in self.all_url ]\n",
    "            for result in as_completed(results):\n",
    "                re = result.result()\n",
    "                self.all_url = self.all_url + re\n",
    "        return self.data\n",
    "\n"
   ]
  },
  {
   "cell_type": "code",
   "execution_count": 8,
   "id": "27f51a33",
   "metadata": {},
   "outputs": [
    {
     "ename": "UnboundLocalError",
     "evalue": "local variable 'results' referenced before assignment",
     "output_type": "error",
     "traceback": [
      "\u001b[1;31m---------------------------------------------------------------------------\u001b[0m",
      "\u001b[1;31mUnboundLocalError\u001b[0m                         Traceback (most recent call last)",
      "\u001b[1;32m~\\AppData\\Local\\Temp/ipykernel_6016/4144580183.py\u001b[0m in \u001b[0;36m<module>\u001b[1;34m\u001b[0m\n\u001b[0;32m      1\u001b[0m \u001b[0mmn\u001b[0m \u001b[1;33m=\u001b[0m \u001b[0mmanage\u001b[0m\u001b[1;33m(\u001b[0m\u001b[1;34m'https://www.gamespot.com/'\u001b[0m\u001b[1;33m)\u001b[0m\u001b[1;33m\u001b[0m\u001b[1;33m\u001b[0m\u001b[0m\n\u001b[1;32m----> 2\u001b[1;33m \u001b[0mall_url\u001b[0m \u001b[1;33m=\u001b[0m \u001b[0mmn\u001b[0m\u001b[1;33m.\u001b[0m\u001b[0mget_content_manager\u001b[0m\u001b[1;33m(\u001b[0m\u001b[1;33m)\u001b[0m\u001b[1;33m\u001b[0m\u001b[1;33m\u001b[0m\u001b[0m\n\u001b[0m\u001b[0;32m      3\u001b[0m \u001b[0mall_url\u001b[0m\u001b[1;33m\u001b[0m\u001b[1;33m\u001b[0m\u001b[0m\n\u001b[0;32m      4\u001b[0m \u001b[0mlen\u001b[0m\u001b[1;33m(\u001b[0m\u001b[0mall_url\u001b[0m\u001b[1;33m)\u001b[0m\u001b[1;33m\u001b[0m\u001b[1;33m\u001b[0m\u001b[0m\n\u001b[0;32m      5\u001b[0m \u001b[0mprint\u001b[0m\u001b[1;33m(\u001b[0m\u001b[1;34m'1'\u001b[0m\u001b[1;33m)\u001b[0m\u001b[1;33m\u001b[0m\u001b[1;33m\u001b[0m\u001b[0m\n",
      "\u001b[1;32m~\\AppData\\Local\\Temp/ipykernel_6016/178020189.py\u001b[0m in \u001b[0;36mget_content_manager\u001b[1;34m(self)\u001b[0m\n\u001b[0;32m     51\u001b[0m \u001b[1;33m\u001b[0m\u001b[0m\n\u001b[0;32m     52\u001b[0m                 \u001b[0mresults\u001b[0m \u001b[1;33m=\u001b[0m \u001b[1;33m[\u001b[0m \u001b[0mexecutor\u001b[0m\u001b[1;33m.\u001b[0m\u001b[0msubmit\u001b[0m\u001b[1;33m(\u001b[0m\u001b[0mself\u001b[0m\u001b[1;33m.\u001b[0m\u001b[0mcrawl\u001b[0m\u001b[1;33m,\u001b[0m \u001b[0mi\u001b[0m\u001b[1;33m)\u001b[0m \u001b[1;32mfor\u001b[0m \u001b[0mi\u001b[0m \u001b[1;32min\u001b[0m \u001b[0mself\u001b[0m\u001b[1;33m.\u001b[0m\u001b[0mall_url\u001b[0m \u001b[1;33m]\u001b[0m\u001b[1;33m\u001b[0m\u001b[1;33m\u001b[0m\u001b[0m\n\u001b[1;32m---> 53\u001b[1;33m             \u001b[1;32mfor\u001b[0m \u001b[0mresult\u001b[0m \u001b[1;32min\u001b[0m \u001b[0mas_completed\u001b[0m\u001b[1;33m(\u001b[0m\u001b[0mresults\u001b[0m\u001b[1;33m)\u001b[0m\u001b[1;33m:\u001b[0m\u001b[1;33m\u001b[0m\u001b[1;33m\u001b[0m\u001b[0m\n\u001b[0m\u001b[0;32m     54\u001b[0m                 \u001b[0mre\u001b[0m \u001b[1;33m=\u001b[0m \u001b[0mresult\u001b[0m\u001b[1;33m.\u001b[0m\u001b[0mresult\u001b[0m\u001b[1;33m(\u001b[0m\u001b[1;33m)\u001b[0m\u001b[1;33m\u001b[0m\u001b[1;33m\u001b[0m\u001b[0m\n\u001b[0;32m     55\u001b[0m                 \u001b[0mself\u001b[0m\u001b[1;33m.\u001b[0m\u001b[0mall_url\u001b[0m \u001b[1;33m=\u001b[0m \u001b[0mself\u001b[0m\u001b[1;33m.\u001b[0m\u001b[0mall_url\u001b[0m \u001b[1;33m+\u001b[0m \u001b[0mre\u001b[0m\u001b[1;33m\u001b[0m\u001b[1;33m\u001b[0m\u001b[0m\n",
      "\u001b[1;31mUnboundLocalError\u001b[0m: local variable 'results' referenced before assignment"
     ]
    }
   ],
   "source": [
    "mn = manage('https://www.gamespot.com/')\n",
    "all_url = mn.get_content_manager()\n",
    "all_url\n",
    "len(all_url)\n",
    "print('1')"
   ]
  },
  {
   "cell_type": "code",
   "execution_count": null,
   "id": "cc32a712",
   "metadata": {},
   "outputs": [],
   "source": [
    "for i in all_url:\n",
    "    a = mn.crawl(i)\n",
    "    all_url = all_url + a\n",
    "    \n",
    "len(all_url)"
   ]
  },
  {
   "cell_type": "code",
   "execution_count": null,
   "id": "093618b9",
   "metadata": {},
   "outputs": [],
   "source": [
    "import pandas as pd\n",
    "d = pd.read_csv('gamespot.csv')\n",
    "url_list = list(d['url'])"
   ]
  },
  {
   "cell_type": "code",
   "execution_count": null,
   "id": "f25a4f45",
   "metadata": {},
   "outputs": [],
   "source": [
    "d"
   ]
  },
  {
   "cell_type": "code",
   "execution_count": 6,
   "id": "705f1de8",
   "metadata": {},
   "outputs": [
    {
     "data": {
      "text/plain": [
       "0"
      ]
     },
     "execution_count": 6,
     "metadata": {},
     "output_type": "execute_result"
    }
   ],
   "source": [
    "d.loc[d['sentiment']== 'j'].shape[0]"
   ]
  },
  {
   "cell_type": "code",
   "execution_count": 1,
   "id": "d16e4ae5",
   "metadata": {},
   "outputs": [],
   "source": [
    "from os import listdir\n",
    "\n",
    "from os.path import isfile, join\n",
    "\n",
    "mypath = '\\\\Users\\\\Nachanon\\\\Desktop\\\\Web-scraping\\\\keyword'\n",
    "onlyfiles = [f for f in listdir(mypath) if isfile(join(mypath, f))]"
   ]
  },
  {
   "cell_type": "code",
   "execution_count": 2,
   "id": "b9aead6a",
   "metadata": {},
   "outputs": [
    {
     "data": {
      "text/plain": [
       "['game.csv', 'news.csv']"
      ]
     },
     "execution_count": 2,
     "metadata": {},
     "output_type": "execute_result"
    }
   ],
   "source": [
    "onlyfiles"
   ]
  },
  {
   "cell_type": "code",
   "execution_count": 13,
   "id": "d00c7b0f",
   "metadata": {},
   "outputs": [
    {
     "data": {
      "text/html": [
       "<div>\n",
       "<style scoped>\n",
       "    .dataframe tbody tr th:only-of-type {\n",
       "        vertical-align: middle;\n",
       "    }\n",
       "\n",
       "    .dataframe tbody tr th {\n",
       "        vertical-align: top;\n",
       "    }\n",
       "\n",
       "    .dataframe thead th {\n",
       "        text-align: right;\n",
       "    }\n",
       "</style>\n",
       "<table border=\"1\" class=\"dataframe\">\n",
       "  <thead>\n",
       "    <tr style=\"text-align: right;\">\n",
       "      <th></th>\n",
       "      <th>name</th>\n",
       "      <th>url</th>\n",
       "      <th>count_keyword</th>\n",
       "    </tr>\n",
       "  </thead>\n",
       "  <tbody>\n",
       "    <tr>\n",
       "      <th>0</th>\n",
       "      <td>gamespot</td>\n",
       "      <td>https://www.gamespot.com/articles/best-nintend...</td>\n",
       "      <td>0</td>\n",
       "    </tr>\n",
       "    <tr>\n",
       "      <th>1</th>\n",
       "      <td>gamespot</td>\n",
       "      <td>https://www.gamespot.com/articles/wordle-best-...</td>\n",
       "      <td>0</td>\n",
       "    </tr>\n",
       "    <tr>\n",
       "      <th>2</th>\n",
       "      <td>gamespot</td>\n",
       "      <td>https://www.gamespot.com/articles/new-tomb-rai...</td>\n",
       "      <td>14</td>\n",
       "    </tr>\n",
       "    <tr>\n",
       "      <th>3</th>\n",
       "      <td>gamespot</td>\n",
       "      <td>https://www.gamespot.com/articles/elden-ring-w...</td>\n",
       "      <td>2</td>\n",
       "    </tr>\n",
       "    <tr>\n",
       "      <th>4</th>\n",
       "      <td>gamespot</td>\n",
       "      <td>https://www.gamespot.com/articles/this-lego-st...</td>\n",
       "      <td>5</td>\n",
       "    </tr>\n",
       "    <tr>\n",
       "      <th>...</th>\n",
       "      <td>...</td>\n",
       "      <td>...</td>\n",
       "      <td>...</td>\n",
       "    </tr>\n",
       "    <tr>\n",
       "      <th>694</th>\n",
       "      <td>gamespot</td>\n",
       "      <td>https://www.gamespot.com/articles/uncharted-mo...</td>\n",
       "      <td>0</td>\n",
       "    </tr>\n",
       "    <tr>\n",
       "      <th>695</th>\n",
       "      <td>gamespot</td>\n",
       "      <td>https://www.gamespot.com/articles/first-traile...</td>\n",
       "      <td>0</td>\n",
       "    </tr>\n",
       "    <tr>\n",
       "      <th>696</th>\n",
       "      <td>gamespot</td>\n",
       "      <td>https://www.gamespot.com/articles/same-sex-kis...</td>\n",
       "      <td>0</td>\n",
       "    </tr>\n",
       "    <tr>\n",
       "      <th>697</th>\n",
       "      <td>gamespot</td>\n",
       "      <td>https://www.gamespot.com/articles/daniel-radcl...</td>\n",
       "      <td>0</td>\n",
       "    </tr>\n",
       "    <tr>\n",
       "      <th>698</th>\n",
       "      <td>gamespot</td>\n",
       "      <td>https://www.gamespot.com/videos/how-jackie-cha...</td>\n",
       "      <td>0</td>\n",
       "    </tr>\n",
       "  </tbody>\n",
       "</table>\n",
       "<p>699 rows × 3 columns</p>\n",
       "</div>"
      ],
      "text/plain": [
       "         name                                                url  \\\n",
       "0    gamespot  https://www.gamespot.com/articles/best-nintend...   \n",
       "1    gamespot  https://www.gamespot.com/articles/wordle-best-...   \n",
       "2    gamespot  https://www.gamespot.com/articles/new-tomb-rai...   \n",
       "3    gamespot  https://www.gamespot.com/articles/elden-ring-w...   \n",
       "4    gamespot  https://www.gamespot.com/articles/this-lego-st...   \n",
       "..        ...                                                ...   \n",
       "694  gamespot  https://www.gamespot.com/articles/uncharted-mo...   \n",
       "695  gamespot  https://www.gamespot.com/articles/first-traile...   \n",
       "696  gamespot  https://www.gamespot.com/articles/same-sex-kis...   \n",
       "697  gamespot  https://www.gamespot.com/articles/daniel-radcl...   \n",
       "698  gamespot  https://www.gamespot.com/videos/how-jackie-cha...   \n",
       "\n",
       "     count_keyword  \n",
       "0                0  \n",
       "1                0  \n",
       "2               14  \n",
       "3                2  \n",
       "4                5  \n",
       "..             ...  \n",
       "694              0  \n",
       "695              0  \n",
       "696              0  \n",
       "697              0  \n",
       "698              0  \n",
       "\n",
       "[699 rows x 3 columns]"
      ]
     },
     "execution_count": 13,
     "metadata": {},
     "output_type": "execute_result"
    }
   ],
   "source": [
    "k1 = pd.read_csv('keyword/game.csv')\n",
    "k1"
   ]
  },
  {
   "cell_type": "code",
   "execution_count": 8,
   "id": "8df318a5",
   "metadata": {},
   "outputs": [
    {
     "data": {
      "text/html": [
       "<div>\n",
       "<style scoped>\n",
       "    .dataframe tbody tr th:only-of-type {\n",
       "        vertical-align: middle;\n",
       "    }\n",
       "\n",
       "    .dataframe tbody tr th {\n",
       "        vertical-align: top;\n",
       "    }\n",
       "\n",
       "    .dataframe thead th {\n",
       "        text-align: right;\n",
       "    }\n",
       "</style>\n",
       "<table border=\"1\" class=\"dataframe\">\n",
       "  <thead>\n",
       "    <tr style=\"text-align: right;\">\n",
       "      <th></th>\n",
       "      <th>Unnamed: 0.1</th>\n",
       "      <th>Unnamed: 0</th>\n",
       "      <th>name</th>\n",
       "      <th>url</th>\n",
       "      <th>count_keyword</th>\n",
       "      <th>header</th>\n",
       "      <th>content</th>\n",
       "      <th>total_word</th>\n",
       "      <th>sentiment</th>\n",
       "    </tr>\n",
       "  </thead>\n",
       "  <tbody>\n",
       "    <tr>\n",
       "      <th>0</th>\n",
       "      <td>0.0</td>\n",
       "      <td>0.0</td>\n",
       "      <td>gamespot</td>\n",
       "      <td>https://www.gamespot.com/articles/best-nintend...</td>\n",
       "      <td>0.0</td>\n",
       "      <td>NaN</td>\n",
       "      <td>NaN</td>\n",
       "      <td>NaN</td>\n",
       "      <td>NaN</td>\n",
       "    </tr>\n",
       "    <tr>\n",
       "      <th>1</th>\n",
       "      <td>1.0</td>\n",
       "      <td>1.0</td>\n",
       "      <td>gamespot</td>\n",
       "      <td>https://www.gamespot.com/articles/wordle-best-...</td>\n",
       "      <td>0.0</td>\n",
       "      <td>NaN</td>\n",
       "      <td>NaN</td>\n",
       "      <td>NaN</td>\n",
       "      <td>NaN</td>\n",
       "    </tr>\n",
       "    <tr>\n",
       "      <th>2</th>\n",
       "      <td>2.0</td>\n",
       "      <td>2.0</td>\n",
       "      <td>gamespot</td>\n",
       "      <td>https://www.gamespot.com/articles/new-tomb-rai...</td>\n",
       "      <td>14.0</td>\n",
       "      <td>NaN</td>\n",
       "      <td>NaN</td>\n",
       "      <td>NaN</td>\n",
       "      <td>NaN</td>\n",
       "    </tr>\n",
       "    <tr>\n",
       "      <th>3</th>\n",
       "      <td>3.0</td>\n",
       "      <td>3.0</td>\n",
       "      <td>gamespot</td>\n",
       "      <td>https://www.gamespot.com/articles/elden-ring-w...</td>\n",
       "      <td>2.0</td>\n",
       "      <td>NaN</td>\n",
       "      <td>NaN</td>\n",
       "      <td>NaN</td>\n",
       "      <td>NaN</td>\n",
       "    </tr>\n",
       "    <tr>\n",
       "      <th>4</th>\n",
       "      <td>4.0</td>\n",
       "      <td>4.0</td>\n",
       "      <td>gamespot</td>\n",
       "      <td>https://www.gamespot.com/articles/this-lego-st...</td>\n",
       "      <td>5.0</td>\n",
       "      <td>NaN</td>\n",
       "      <td>NaN</td>\n",
       "      <td>NaN</td>\n",
       "      <td>NaN</td>\n",
       "    </tr>\n",
       "    <tr>\n",
       "      <th>...</th>\n",
       "      <td>...</td>\n",
       "      <td>...</td>\n",
       "      <td>...</td>\n",
       "      <td>...</td>\n",
       "      <td>...</td>\n",
       "      <td>...</td>\n",
       "      <td>...</td>\n",
       "      <td>...</td>\n",
       "      <td>...</td>\n",
       "    </tr>\n",
       "    <tr>\n",
       "      <th>961</th>\n",
       "      <td>NaN</td>\n",
       "      <td>84.0</td>\n",
       "      <td>gematsu</td>\n",
       "      <td>https://www.gematsu.com/2022/04/famitsu-sales-...</td>\n",
       "      <td>0.0</td>\n",
       "      <td>NaN</td>\n",
       "      <td>NaN</td>\n",
       "      <td>NaN</td>\n",
       "      <td>NaN</td>\n",
       "    </tr>\n",
       "    <tr>\n",
       "      <th>962</th>\n",
       "      <td>NaN</td>\n",
       "      <td>85.0</td>\n",
       "      <td>gematsu</td>\n",
       "      <td>https://www.gematsu.com/2022/04/trek-to-yomi-l...</td>\n",
       "      <td>0.0</td>\n",
       "      <td>NaN</td>\n",
       "      <td>NaN</td>\n",
       "      <td>NaN</td>\n",
       "      <td>NaN</td>\n",
       "    </tr>\n",
       "    <tr>\n",
       "      <th>963</th>\n",
       "      <td>NaN</td>\n",
       "      <td>86.0</td>\n",
       "      <td>gematsu</td>\n",
       "      <td>https://www.gematsu.com/2022/04/puzzle-bobble-...</td>\n",
       "      <td>0.0</td>\n",
       "      <td>NaN</td>\n",
       "      <td>NaN</td>\n",
       "      <td>NaN</td>\n",
       "      <td>NaN</td>\n",
       "    </tr>\n",
       "    <tr>\n",
       "      <th>964</th>\n",
       "      <td>NaN</td>\n",
       "      <td>87.0</td>\n",
       "      <td>gematsu</td>\n",
       "      <td>https://www.gematsu.com/2022/04/layer-section-...</td>\n",
       "      <td>0.0</td>\n",
       "      <td>NaN</td>\n",
       "      <td>NaN</td>\n",
       "      <td>NaN</td>\n",
       "      <td>NaN</td>\n",
       "    </tr>\n",
       "    <tr>\n",
       "      <th>965</th>\n",
       "      <td>NaN</td>\n",
       "      <td>88.0</td>\n",
       "      <td>gematsu</td>\n",
       "      <td>https://www.gematsu.com/2022/04/swordship-laun...</td>\n",
       "      <td>0.0</td>\n",
       "      <td>NaN</td>\n",
       "      <td>NaN</td>\n",
       "      <td>NaN</td>\n",
       "      <td>NaN</td>\n",
       "    </tr>\n",
       "  </tbody>\n",
       "</table>\n",
       "<p>966 rows × 9 columns</p>\n",
       "</div>"
      ],
      "text/plain": [
       "     Unnamed: 0.1  Unnamed: 0      name  \\\n",
       "0             0.0         0.0  gamespot   \n",
       "1             1.0         1.0  gamespot   \n",
       "2             2.0         2.0  gamespot   \n",
       "3             3.0         3.0  gamespot   \n",
       "4             4.0         4.0  gamespot   \n",
       "..            ...         ...       ...   \n",
       "961           NaN        84.0   gematsu   \n",
       "962           NaN        85.0   gematsu   \n",
       "963           NaN        86.0   gematsu   \n",
       "964           NaN        87.0   gematsu   \n",
       "965           NaN        88.0   gematsu   \n",
       "\n",
       "                                                   url  count_keyword header  \\\n",
       "0    https://www.gamespot.com/articles/best-nintend...            0.0    NaN   \n",
       "1    https://www.gamespot.com/articles/wordle-best-...            0.0    NaN   \n",
       "2    https://www.gamespot.com/articles/new-tomb-rai...           14.0    NaN   \n",
       "3    https://www.gamespot.com/articles/elden-ring-w...            2.0    NaN   \n",
       "4    https://www.gamespot.com/articles/this-lego-st...            5.0    NaN   \n",
       "..                                                 ...            ...    ...   \n",
       "961  https://www.gematsu.com/2022/04/famitsu-sales-...            0.0    NaN   \n",
       "962  https://www.gematsu.com/2022/04/trek-to-yomi-l...            0.0    NaN   \n",
       "963  https://www.gematsu.com/2022/04/puzzle-bobble-...            0.0    NaN   \n",
       "964  https://www.gematsu.com/2022/04/layer-section-...            0.0    NaN   \n",
       "965  https://www.gematsu.com/2022/04/swordship-laun...            0.0    NaN   \n",
       "\n",
       "    content  total_word sentiment  \n",
       "0       NaN         NaN       NaN  \n",
       "1       NaN         NaN       NaN  \n",
       "2       NaN         NaN       NaN  \n",
       "3       NaN         NaN       NaN  \n",
       "4       NaN         NaN       NaN  \n",
       "..      ...         ...       ...  \n",
       "961     NaN         NaN       NaN  \n",
       "962     NaN         NaN       NaN  \n",
       "963     NaN         NaN       NaN  \n",
       "964     NaN         NaN       NaN  \n",
       "965     NaN         NaN       NaN  \n",
       "\n",
       "[966 rows x 9 columns]"
      ]
     },
     "execution_count": 8,
     "metadata": {},
     "output_type": "execute_result"
    }
   ],
   "source": [
    "dc = pd.concat([k1,k2])\n",
    "dc"
   ]
  },
  {
   "cell_type": "code",
   "execution_count": 14,
   "id": "0497718d",
   "metadata": {},
   "outputs": [
    {
     "data": {
      "text/plain": [
       "'hello'"
      ]
     },
     "execution_count": 14,
     "metadata": {},
     "output_type": "execute_result"
    }
   ],
   "source": [
    "a = 'http//hello/'\n",
    "aa = a.split('/',3)\n",
    "aa[2]"
   ]
  },
  {
   "cell_type": "code",
   "execution_count": 29,
   "id": "a44c5154",
   "metadata": {},
   "outputs": [
    {
     "data": {
      "text/plain": [
       "['1', '2']"
      ]
     },
     "execution_count": 29,
     "metadata": {},
     "output_type": "execute_result"
    }
   ],
   "source": [
    "e = ['#','1','#','2']\n",
    "t = list(filter(('#').__ne__, e))\n",
    "t"
   ]
  },
  {
   "cell_type": "code",
   "execution_count": 25,
   "id": "a6e3545b",
   "metadata": {},
   "outputs": [
    {
     "data": {
      "text/plain": [
       "'www.gamespot.com'"
      ]
     },
     "execution_count": 25,
     "metadata": {},
     "output_type": "execute_result"
    }
   ],
   "source": [
    "st = 'https://www.gamespot.com/videos/new-ps-plus-feels-boring-compared-to-xbox-game-pass/2300-6457808/'\n",
    "st.split('/',3)[2]"
   ]
  },
  {
   "cell_type": "code",
   "execution_count": null,
   "id": "47ce746e",
   "metadata": {},
   "outputs": [],
   "source": [
    "\n"
   ]
  },
  {
   "cell_type": "code",
   "execution_count": 33,
   "id": "c84c152b",
   "metadata": {},
   "outputs": [],
   "source": [
    "from collections import Counter\n",
    "z = ['blue', 'red', 'blue', 'yellow', 'blue', 'red']\n",
    "a2  = Counter(z)"
   ]
  },
  {
   "cell_type": "code",
   "execution_count": 37,
   "id": "bff2025e",
   "metadata": {},
   "outputs": [
    {
     "data": {
      "text/plain": [
       "Counter({'blue': 3, 'red': 2, 'yellow': 1})"
      ]
     },
     "execution_count": 37,
     "metadata": {},
     "output_type": "execute_result"
    }
   ],
   "source": [
    "a2"
   ]
  },
  {
   "cell_type": "code",
   "execution_count": 45,
   "id": "5574290c",
   "metadata": {},
   "outputs": [
    {
     "name": "stdout",
     "output_type": "stream",
     "text": [
      "3\n",
      "2\n",
      "1\n"
     ]
    }
   ],
   "source": [
    "for i in a2:\n",
    "    print(a2[i])"
   ]
  },
  {
   "cell_type": "code",
   "execution_count": 4,
   "id": "fc8dc65a",
   "metadata": {},
   "outputs": [
    {
     "data": {
      "text/plain": [
       "'en'"
      ]
     },
     "execution_count": 4,
     "metadata": {},
     "output_type": "execute_result"
    }
   ],
   "source": [
    "import pandas as pd\n",
    "name_list = ['gamespot','theverge']\n",
    "df = pd.read_csv('Web-scrape\\\\data\\\\web\\\\gameinformer.csv')\n",
    "# df.loc[df['content'] != 'No Content.']\n",
    "df['lang'][0]"
   ]
  },
  {
   "cell_type": "code",
   "execution_count": 11,
   "id": "1d830a58",
   "metadata": {},
   "outputs": [
    {
     "data": {
      "text/plain": [
       "163"
      ]
     },
     "execution_count": 11,
     "metadata": {},
     "output_type": "execute_result"
    }
   ],
   "source": [
    "df[(df['sentiment'] == 'Positive')]['sentiment'].count()\n"
   ]
  },
  {
   "cell_type": "code",
   "execution_count": 23,
   "id": "97610062",
   "metadata": {},
   "outputs": [
    {
     "data": {
      "text/html": [
       "<div>\n",
       "<style scoped>\n",
       "    .dataframe tbody tr th:only-of-type {\n",
       "        vertical-align: middle;\n",
       "    }\n",
       "\n",
       "    .dataframe tbody tr th {\n",
       "        vertical-align: top;\n",
       "    }\n",
       "\n",
       "    .dataframe thead th {\n",
       "        text-align: right;\n",
       "    }\n",
       "</style>\n",
       "<table border=\"1\" class=\"dataframe\">\n",
       "  <thead>\n",
       "    <tr style=\"text-align: right;\">\n",
       "      <th></th>\n",
       "      <th>name</th>\n",
       "      <th>url</th>\n",
       "      <th>count_keyword</th>\n",
       "    </tr>\n",
       "  </thead>\n",
       "  <tbody>\n",
       "    <tr>\n",
       "      <th>0</th>\n",
       "      <td>gamespot</td>\n",
       "      <td>https://www.gamespot.com/articles/best-nintend...</td>\n",
       "      <td>0</td>\n",
       "    </tr>\n",
       "    <tr>\n",
       "      <th>1</th>\n",
       "      <td>gamespot</td>\n",
       "      <td>https://www.gamespot.com/articles/wordle-best-...</td>\n",
       "      <td>0</td>\n",
       "    </tr>\n",
       "    <tr>\n",
       "      <th>2</th>\n",
       "      <td>gamespot</td>\n",
       "      <td>https://www.gamespot.com/articles/new-tomb-rai...</td>\n",
       "      <td>14</td>\n",
       "    </tr>\n",
       "    <tr>\n",
       "      <th>3</th>\n",
       "      <td>gamespot</td>\n",
       "      <td>https://www.gamespot.com/articles/elden-ring-w...</td>\n",
       "      <td>2</td>\n",
       "    </tr>\n",
       "    <tr>\n",
       "      <th>4</th>\n",
       "      <td>gamespot</td>\n",
       "      <td>https://www.gamespot.com/articles/this-lego-st...</td>\n",
       "      <td>5</td>\n",
       "    </tr>\n",
       "    <tr>\n",
       "      <th>...</th>\n",
       "      <td>...</td>\n",
       "      <td>...</td>\n",
       "      <td>...</td>\n",
       "    </tr>\n",
       "    <tr>\n",
       "      <th>2601</th>\n",
       "      <td>techradar</td>\n",
       "      <td>https://www.techradar.com/news/mobile-computin...</td>\n",
       "      <td>0</td>\n",
       "    </tr>\n",
       "    <tr>\n",
       "      <th>2602</th>\n",
       "      <td>techradar</td>\n",
       "      <td>https://www.techradar.com/news/mobile-computin...</td>\n",
       "      <td>0</td>\n",
       "    </tr>\n",
       "    <tr>\n",
       "      <th>2603</th>\n",
       "      <td>techradar</td>\n",
       "      <td>https://www.techradar.com/news/computing-compo...</td>\n",
       "      <td>0</td>\n",
       "    </tr>\n",
       "    <tr>\n",
       "      <th>2604</th>\n",
       "      <td>techradar</td>\n",
       "      <td>https://www.techradar.com/news/computing-compo...</td>\n",
       "      <td>0</td>\n",
       "    </tr>\n",
       "    <tr>\n",
       "      <th>2605</th>\n",
       "      <td>techradar</td>\n",
       "      <td>https://www.techradar.com/news/archive/2007/08</td>\n",
       "      <td>0</td>\n",
       "    </tr>\n",
       "  </tbody>\n",
       "</table>\n",
       "<p>2606 rows × 3 columns</p>\n",
       "</div>"
      ],
      "text/plain": [
       "           name                                                url  \\\n",
       "0      gamespot  https://www.gamespot.com/articles/best-nintend...   \n",
       "1      gamespot  https://www.gamespot.com/articles/wordle-best-...   \n",
       "2      gamespot  https://www.gamespot.com/articles/new-tomb-rai...   \n",
       "3      gamespot  https://www.gamespot.com/articles/elden-ring-w...   \n",
       "4      gamespot  https://www.gamespot.com/articles/this-lego-st...   \n",
       "...         ...                                                ...   \n",
       "2601  techradar  https://www.techradar.com/news/mobile-computin...   \n",
       "2602  techradar  https://www.techradar.com/news/mobile-computin...   \n",
       "2603  techradar  https://www.techradar.com/news/computing-compo...   \n",
       "2604  techradar  https://www.techradar.com/news/computing-compo...   \n",
       "2605  techradar     https://www.techradar.com/news/archive/2007/08   \n",
       "\n",
       "      count_keyword  \n",
       "0                 0  \n",
       "1                 0  \n",
       "2                14  \n",
       "3                 2  \n",
       "4                 5  \n",
       "...             ...  \n",
       "2601              0  \n",
       "2602              0  \n",
       "2603              0  \n",
       "2604              0  \n",
       "2605              0  \n",
       "\n",
       "[2606 rows x 3 columns]"
      ]
     },
     "execution_count": 23,
     "metadata": {},
     "output_type": "execute_result"
    }
   ],
   "source": [
    "df"
   ]
  },
  {
   "cell_type": "code",
   "execution_count": 39,
   "id": "5ad2923b",
   "metadata": {},
   "outputs": [
    {
     "data": {
      "text/plain": [
       "'ได้เวลาออกล่า Vampire: The Masquerade – Bloodhunt เกมส์ออนไลน์ใหม่แนว Battle Royale ในเรื่องราวของสงครามการต่อสู้เพื่อการเป็นสุดยอดของนักล่าแห่งรัตติกาลตระกูลต่างๆ ที่ต้องมาห้ำหั่นกันด้วยพลังเหนือธรรมชาติ และ การเคลื่อนไหวที่เหนือจินตนาการ เปิดให้ดาวน์โหลดไปเล่นกันได้ฟรีทั้ง PS5 และ Steam แล้ววันนี้Vampire: The Masquerade – Bloodhunt เกมส์ออนไลน์ใหม่แนว Battle Royale ในบรรยากาศสุดสยอง เปิดให้บริการแบบ Free-to-Play ในเมืองสุดซวยที่ดันต้องมาเป็นสนามรบสงครามระหว่างแวมไพร์ตระกูลต่างๆ ที่ออกมาล่ามนุษย์เสริมพลังยามราตรีเสริมความแข็งแกร่งเพื่อออกล่าแวมไพร์จากตระกูลอื่น เราสามารถเลือกใช้ตัวละครจาก 4 ตระกูลได้แก่ Ventrue, Brujah, NOSFERATU และ Toreador ที่แต่ละตระกูลจะมีรูปแบบของสกิลแตกต่างกันไปตามลักษณะของตระกูลตัวเองใครหลงไหลการเล่นเกมส์ในสไตล์ Battle Royale ยิ่งใครอินกับบรรยากาศหลอนๆ หรือ ใครหลงไหลเหล่าแวมไพร์  ไม่ควรพลาดตามไปทดสอบความสนุกกันได้แล้ววันนี้ทั้งบน PS5 และ Steam ได้แล้ววันนี้ ติดตามรายละเอียดเพิ่มเติมได้ที่ https://bloodhunt.com/en-us'"
      ]
     },
     "execution_count": 39,
     "metadata": {},
     "output_type": "execute_result"
    }
   ],
   "source": [
    "import requests\n",
    "from bs4 import BeautifulSoup\n",
    "import pandas as pd\n",
    "import re\n",
    "\n",
    "r = requests.get('https://www.game-ded.com/gamereviews/167286').text\n",
    "s = BeautifulSoup(r,'html.parser')\n",
    "\n",
    "texts =''\n",
    "t = []\n",
    "# for i in s.find_all('div',{'id': re.compile(r'(EntryReader_0)')})[0]:\n",
    "#     for p in i.find_all('p'):\n",
    "#         print(p)\n",
    "\n",
    "for i in s.find_all('div',{'class': re.compile(r'(entry-content clearfix post-167286 post type-post status-publish format-standard has-post-thumbnail hentry category-gamereviews category-newgameinter tag-battle-royale tag-bloodhunt tag-free-to-play tag-ps5 tag-steam tag-vampire-the-masquerade tag-vampire-the-masquerade-bloodhunt tag-6604 tag-81 tag-7748 tag-12353 tag-14 tag-902 tag-116 tag-2524 game-platform-pc)')}):\n",
    "    for p in i.find_all('p'):\n",
    "        for k in p:\n",
    "            t.append(k.text)\n",
    "for text in t:\n",
    "    texts = texts +text\n",
    "texts"
   ]
  },
  {
   "cell_type": "code",
   "execution_count": 65,
   "id": "21c20b5e",
   "metadata": {},
   "outputs": [
    {
     "data": {
      "text/plain": [
       "'ท่ามกลางมหาสงครามในอดีตอันดำมืด ครั้งที่ Liyue ต้องพบกับมหันตภัยที่จะกลืนกินทุกสิ่งไปตลอดกาล ผลกระทบจากการปะทะกับจ้าวแห่งความมืด Chi และราชาแห่งหิน เมื่อผู้ปราชัยต้องถูกลืมเลือนไป และการขึ้นสู่จุดสูงสุดของราชาแห่งหิน ก็ไม่ได้มาโดยง่าย เมื่อพลังความมืดที่ถูกโค่นกลับสร้างปัญหาใหม่อันไร้ที่สิ้นสุด และแผ่ขยายเป็นวงกว้าง ราชาแห่งหินจำเป็นจะต้องอัญเชิญอสูรสงคราม ออกมาห้ำหั่นอย่างไร้ความปรานี'"
      ]
     },
     "execution_count": 65,
     "metadata": {},
     "output_type": "execute_result"
    }
   ],
   "source": [
    "s.find_all('div',{'id': re.compile(r'(EntryReader_0)')})[0].find_all('p')[0].text"
   ]
  },
  {
   "cell_type": "code",
   "execution_count": 72,
   "id": "16129295",
   "metadata": {},
   "outputs": [
    {
     "data": {
      "text/plain": [
       "('neu',\n",
       " {'pos': 0.018646982411132,\n",
       "  'neu': 0.979774982830796,\n",
       "  'neg': 0.013114659533014878})"
      ]
     },
     "execution_count": 72,
     "metadata": {},
     "output_type": "execute_result"
    }
   ],
   "source": [
    "from thai_sentiment import get_sentiment\n",
    "sent = get_sentiment('เปิดตัว “Project Q” เกมแนว Team Battle AUbisoft ประกาศเปิดตัวเกม PvP โฉมใหม่ที่ใช้โค้ดเนมว่า “Project Q” ซึ่งมาในแนว Team Battle Arena และเปิดให้ลงทะเบียนได้แล้ววันนี้ใครที่สนใจ ก็เข้าไปลงทะเบียนกันได                         ด้ทันทีผ่านทางเว็บไซต์ : https://register.ubisoft.com/projectq-signup/en-GBโดยสำหรับ Project Q จะประกอบไปด้วยโหมด PvP หลากหลายแบบ ซึ่งปัจจุบันยังคงอยู่ในช่วงต้นของการพัฒนา จึงยังไม่มีข้อมูลรายละเอียดใด                         ด ๆ มากไปกว่านี้ แต่ที่ Ubisoft ยืนยันไว้ชัดเจน ก็คือจะไม่ใช่แนว Battle Royale แน่นอนทั้งนี้สื่อใหญ่อย่าง VGC ก็พบวิดีโอ Gameplay ที่หลุดออกมาก่อนเกมจะประกาศเปิดตัว โดยสามารถรับชมได้ทางด้านล่างSo, we h                                   heard you heard… 🤷‍Introducing codename “Project Q”, a team battle arena letting players truly own the experience! The game is in early development and we will keep testing, so for now all you can do  is register for upcoming tests: https://t.co/TMRKwiUzbJ pic.twitter.com/hZ40OkPdum— Ubisoft (@Ubisoft) April 23, 2022')\n",
    "sent"
   ]
  },
  {
   "cell_type": "code",
   "execution_count": 85,
   "id": "4c91851f",
   "metadata": {},
   "outputs": [
    {
     "data": {
      "text/plain": [
       "'neu'"
      ]
     },
     "execution_count": 85,
     "metadata": {},
     "output_type": "execute_result"
    }
   ],
   "source": [
    "sent[0]"
   ]
  },
  {
   "cell_type": "code",
   "execution_count": 2,
   "id": "506119ea",
   "metadata": {},
   "outputs": [
    {
     "data": {
      "text/plain": [
       "'2022/04/17'"
      ]
     },
     "execution_count": 2,
     "metadata": {},
     "output_type": "execute_result"
    }
   ],
   "source": [
    "from datetime import datetime\n",
    "datetime.today().strftime('%Y/%m/%d')"
   ]
  },
  {
   "cell_type": "code",
   "execution_count": 20,
   "id": "64bdef21",
   "metadata": {},
   "outputs": [],
   "source": [
    "import pandas as pd\n",
    "a =pd.date_range(start='2019/06/20', end='2019/6/25',freq = 'd')"
   ]
  },
  {
   "cell_type": "code",
   "execution_count": 33,
   "id": "4a08947f",
   "metadata": {},
   "outputs": [
    {
     "name": "stdout",
     "output_type": "stream",
     "text": [
      "2019/06/20\n",
      "2019/06/21\n",
      "2019/06/22\n",
      "2019/06/23\n",
      "2019/06/24\n",
      "2019/06/25\n"
     ]
    }
   ],
   "source": [
    "for i in a:\n",
    "    si = str(i.date())\n",
    "    si2 = si.replace('-','/')\n",
    "    print(si2)"
   ]
  },
  {
   "cell_type": "code",
   "execution_count": 74,
   "id": "344a9c05",
   "metadata": {},
   "outputs": [
    {
     "data": {
      "text/plain": [
       "0.0"
      ]
     },
     "execution_count": 74,
     "metadata": {},
     "output_type": "execute_result"
    }
   ],
   "source": [
    "from textblob import TextBlob\n",
    "from textblob.sentiments import NaiveBayesAnalyzer\n",
    "sentence = 'สวัสดี'\n",
    "tb = TextBlob(sentence)\n",
    "        \n",
    "tb.sentiment.polarity"
   ]
  },
  {
   "cell_type": "code",
   "execution_count": 84,
   "id": "02feb774",
   "metadata": {},
   "outputs": [
    {
     "data": {
      "text/plain": [
       "0.0"
      ]
     },
     "execution_count": 84,
     "metadata": {},
     "output_type": "execute_result"
    }
   ],
   "source": [
    "from textblob import TextBlob\n",
    "from textblob.sentiments import NaiveBayesAnalyzer\n",
    "sentence = 'ดี'\n",
    "tb = TextBlob(sentence)\n",
    "        \n",
    "tb.polarity\n"
   ]
  },
  {
   "cell_type": "code",
   "execution_count": 1,
   "id": "cc36fdf7",
   "metadata": {},
   "outputs": [],
   "source": [
    "from urllib.parse import urljoin\n",
    "import requests\n",
    "from bs4 import BeautifulSoup\n",
    "import pandas as pd\n",
    "import re\n",
    "import nltk\n",
    "from nltk import sent_tokenize\n",
    "from textblob import TextBlob\n",
    "from textblob.sentiments import NaiveBayesAnalyzer\n",
    "from nltk.corpus import stopwords\n",
    "import string \n",
    "from nltk.tokenize import word_tokenize\n",
    "import concurrent.futures\n",
    "from concurrent.futures import as_completed\n",
    "from pprint import pprint\n",
    "\n",
    "\n",
    "text = \"remember where things were laterspeaking of riding your horse you be happy to know there are multiple ways to take care of your trusty steed torrent has his own health bar separate from yours so you want to keep him topped off by feeding him raisins which can be crafted using a variety of rowa fruits that you collect along your journeymeanwhile all hope isn lost if torrent dies either he be automatically revived any time you use a site of grace or if you in desperate need of his mobility before reaching a place to rest you can revive him by using one charge of your flask of crimson tearsas mentioned in the last point using your horse to escape encounters is a nice option to have in a game as immensely challenging as elden ring youll want to ensure that youre always considering your best approach especially against the games most deadly enemiesmany areas of the open world will have roaming packs of enemies that may create an oppressive situation for you if youre caught surrounded and underprepared since you may have a large collection of runes that you dont want to lose its often better to escape on horseback and reset the encounter so that you can scout and reassess how best to tackle the scenario with a new approach in some cases it might be best to just escape altogether and return when youre stronger or have less at stake better safe than sorrylook from softwares roleplaying romps are some of gamings most challenging titles but part of the fun is that satisfying sense of reward that comes from overcoming adversity its important to remember that we all have to start somewhere though and that not everyone approaches these games with the same level of skill or knowledge with that said if youre feeling a little overwhelmed it might be worth considering a magic buildat least until you get your bearingshaving the option to keep your enemies at a distance while blasting them with sorceries or incantations can help you overcome areas with which you may have otherwise struggled you can still dabble in closeup combat and ease your way into that style if thats something you still want to eventually mastereven if youre a veteran of the genre though intelligence and faith builds still offer their own challenges due to delicate resource management and the need to make clever use of spacing so dont worry that magic completely trivializes the game you can still expect to be tested and broken plenty but having a little bit of space to breathe can be helpfulfor more on elden ring check out our elden ring reviewelden ring guidesgamespot may get a commission from retail offersgot a news tip or want to contact us directly email news\"\n",
    "words: list[str] = nltk.word_tokenize(text)\n",
    "t = nltk.Text(words)"
   ]
  },
  {
   "cell_type": "code",
   "execution_count": 7,
   "id": "d10c201f",
   "metadata": {},
   "outputs": [
    {
     "data": {
      "text/plain": [
       "<Text: remember where things were laterspeaking of riding your...>"
      ]
     },
     "execution_count": 7,
     "metadata": {},
     "output_type": "execute_result"
    }
   ],
   "source": [
    "t"
   ]
  },
  {
   "cell_type": "code",
   "execution_count": 7,
   "id": "59caf6f7",
   "metadata": {},
   "outputs": [
    {
     "name": "stdout",
     "output_type": "stream",
     "text": [
      "positive\n"
     ]
    }
   ],
   "source": [
    "import requests\n",
    " \n",
    "url = \"https://api.aiforthai.in.th/ssense\"\n",
    " \n",
    "text = 'สาขานี้พนักงานน่ารักให้บริการดี'\n",
    " \n",
    "params = {'text':text}\n",
    " \n",
    "headers = {\n",
    "    'Apikey': \"Dunuya4Yp7V2z0Hrtn2P6PIxKLLIcLOR\"\n",
    "    }\n",
    " \n",
    "response = requests.get(url, headers=headers, params=params)\n",
    " \n",
    "print(response.json()['sentiment']['polarity'])"
   ]
  },
  {
   "cell_type": "code",
   "execution_count": null,
   "id": "a19bc072",
   "metadata": {},
   "outputs": [],
   "source": []
  }
 ],
 "metadata": {
  "kernelspec": {
   "display_name": "Python 3 (ipykernel)",
   "language": "python",
   "name": "python3"
  },
  "language_info": {
   "codemirror_mode": {
    "name": "ipython",
    "version": 3
   },
   "file_extension": ".py",
   "mimetype": "text/x-python",
   "name": "python",
   "nbconvert_exporter": "python",
   "pygments_lexer": "ipython3",
   "version": "3.10.1"
  }
 },
 "nbformat": 4,
 "nbformat_minor": 5
}
