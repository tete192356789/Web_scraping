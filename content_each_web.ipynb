{
 "cells": [
  {
   "cell_type": "code",
   "execution_count": 3,
   "id": "de6f6567",
   "metadata": {},
   "outputs": [],
   "source": [
    "from urllib.parse import urljoin\n",
    "import requests\n",
    "from bs4 import BeautifulSoup\n",
    "import pandas as pd\n",
    "import re\n",
    "\n",
    "def get_req(url):\n",
    "    return requests.get(url).text\n",
    "def get_soup(req):\n",
    "    return BeautifulSoup(req,'html.parser')\n",
    "def crawler(url):\n",
    "    l = []\n",
    "    \n",
    "    def crawl6(url):\n",
    "        \n",
    "        req = get_req(url)\n",
    "        soup = get_soup(req)\n",
    "\n",
    "        for i in soup.find_all('a'):\n",
    "\n",
    "            try:\n",
    "                if i['href'].startswith('/'):\n",
    "                    link = urljoin(url,i['href'])\n",
    "\n",
    "\n",
    "                    l.append(link)\n",
    "                    crawl6(link)\n",
    "                elif i['href'].startswith('h'):\n",
    "                    link = i['href']\n",
    "\n",
    "                    l.append(link)\n",
    "                    crawl6(link)\n",
    "                else:\n",
    "                    pass\n",
    "    #             l = l + l2\n",
    "            except:\n",
    "                pass\n",
    "        \n",
    "    \n",
    "    crawl6(url)\n",
    "    return l\n",
    "   \n"
   ]
  },
  {
   "cell_type": "code",
   "execution_count": null,
   "id": "ef651e8c",
   "metadata": {},
   "outputs": [],
   "source": [
    "a = crawler('https://www.gamespot.com/')\n",
    "\n",
    "len(a)"
   ]
  },
  {
   "cell_type": "code",
   "execution_count": null,
   "id": "8ad36cb1",
   "metadata": {},
   "outputs": [],
   "source": [
    "a"
   ]
  },
  {
   "cell_type": "code",
   "execution_count": 5,
   "id": "e31a6248",
   "metadata": {},
   "outputs": [],
   "source": [
    "p =[]\n",
    "def crawl67(url):\n",
    "     \n",
    "    req = get_req(url)\n",
    "    soup = get_soup(req)\n",
    "\n",
    "    for i in soup.find_all('a'):\n",
    "\n",
    "        try:\n",
    "            if i['href'].startswith('/'):\n",
    "                link = urljoin(url,i['href'])\n",
    "                if link not in p:\n",
    "                    p.append(link)\n",
    "                    crawl67(link)\n",
    "                    \n",
    "            elif i['href'].startswith('h'):\n",
    "                link = i['href']\n",
    "                if link not in p:\n",
    "                    p.append(link)\n",
    "                    crawl67(link)\n",
    "            else:\n",
    "                pass\n",
    "    #             l = l + l2\n",
    "        except:\n",
    "            pass\n",
    "    "
   ]
  },
  {
   "cell_type": "code",
   "execution_count": null,
   "id": "8cf81b94",
   "metadata": {},
   "outputs": [],
   "source": [
    "crawl67('https://www.gamespot.com/')\n",
    "len(p)"
   ]
  },
  {
   "cell_type": "code",
   "execution_count": null,
   "id": "8bc11e15",
   "metadata": {},
   "outputs": [],
   "source": [
    "len(p)"
   ]
  },
  {
   "cell_type": "code",
   "execution_count": null,
   "id": "67bf36ea",
   "metadata": {},
   "outputs": [],
   "source": []
  }
 ],
 "metadata": {
  "kernelspec": {
   "display_name": "Python 3 (ipykernel)",
   "language": "python",
   "name": "python3"
  },
  "language_info": {
   "codemirror_mode": {
    "name": "ipython",
    "version": 3
   },
   "file_extension": ".py",
   "mimetype": "text/x-python",
   "name": "python",
   "nbconvert_exporter": "python",
   "pygments_lexer": "ipython3",
   "version": "3.10.1"
  }
 },
 "nbformat": 4,
 "nbformat_minor": 5
}
