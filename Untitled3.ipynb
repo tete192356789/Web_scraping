{
 "cells": [
  {
   "cell_type": "code",
   "execution_count": 2,
   "id": "a21e7063",
   "metadata": {},
   "outputs": [],
   "source": [
    "from urllib.request import urlopen\n",
    "from urllib.parse import urlparse\n",
    "from bs4 import BeautifulSoup\n",
    "import re\n",
    "\n",
    "def getInternalLinks(bs, includeUrl):\n",
    "    includeUrl = '{}://{}'.format(urlparse(includeUrl).scheme,urlparse(includeUrl).netloc)\n",
    "    internalLinks = []\n",
    "    #Finds all links that begin with a \"/\"\n",
    "    for link in bs.find_all('a',href=re.compile('^(/|.*'+includeUrl+')')):\n",
    "        if link.attrs['href'] is not None:\n",
    "            if link.attrs['href'] not in internalLinks:\n",
    "                if(link.attrs['href'].startswith('/')):\n",
    "                    internalLinks.append(includeUrl+link.attrs['href'])\n",
    "                else:\n",
    "                    internalLinks.append(link.attrs['href'])\n",
    "    return internalLinks\n",
    "def getExternalLinks(bs, excludeUrl):\n",
    "    externalLinks = []\n",
    "    #Finds all links that start with \"http\" that do\n",
    "    #not contain the current URL\n",
    "    for link in bs.find_all('a',href=re.compile('^(http|www)((?!'+excludeUrl+').)*$')):\n",
    "        if link.attrs['href'] is not None:\n",
    "            if link.attrs['href'] not in externalLinks:\n",
    "                externalLinks.append(link.attrs['href'])\n",
    "    return externalLinks"
   ]
  },
  {
   "cell_type": "code",
   "execution_count": null,
   "id": "477dc8db",
   "metadata": {},
   "outputs": [],
   "source": [
    "allExtLinks = set()\n",
    "allIntLinks = set()\n",
    "def getAllExternalLinks(siteUrl):\n",
    "    html = urlopen(siteUrl)\n",
    "    domain = '{}://{}'.format(urlparse(siteUrl).scheme,urlparse(siteUrl).netloc)\n",
    "    bs = BeautifulSoup(html, 'html.parser')\n",
    "    internalLinks = getInternalLinks(bs, domain)\n",
    "    externalLinks = getExternalLinks(bs, domain)\n",
    "    for link in externalLinks:\n",
    "        if link not in allExtLinks:\n",
    "            allExtLinks.add(link)\n",
    "          \n",
    "    for link in internalLinks:\n",
    "        if link not in allIntLinks:\n",
    "            allIntLinks.add(link)\n",
    "            getAllExternalLinks(link)\n",
    "#allIntLinks.add('http://oreilly.com')\n",
    "getAllExternalLinks('https://www.gamespot.com/')\n"
   ]
  },
  {
   "cell_type": "code",
   "execution_count": null,
   "id": "9c3cc043",
   "metadata": {},
   "outputs": [],
   "source": [
    "allIntLinks\n"
   ]
  },
  {
   "cell_type": "code",
   "execution_count": null,
   "id": "1ad2bce2",
   "metadata": {},
   "outputs": [],
   "source": [
    "allExtLinks"
   ]
  },
  {
   "cell_type": "code",
   "execution_count": null,
   "id": "e2078214",
   "metadata": {},
   "outputs": [],
   "source": [
    "from urllib.request import urlopen\n",
    "from bs4 import BeautifulSoup\n",
    "import re\n",
    "pages = []\n",
    "def getLinks(pageUrl):\n",
    "    global pages\n",
    "    html = urlopen('https://www.gamespot.com/{}'.format(pageUrl))\n",
    "    bs = BeautifulSoup(html, 'html.parser')\n",
    "\n",
    "    for link in bs.find_all('a'):\n",
    "        try:\n",
    "            if link['href'].startswith('/'):\n",
    "#                 path = urljoin(url,i['href'])\n",
    "                if 'href' in link.attrs:\n",
    "                    if link.attrs['href'] not in pages:\n",
    "                        #We have encountered a new page\n",
    "                        newPage = link.attrs['href']\n",
    "        #                 print('-'*20)\n",
    "                       \n",
    "                        pages.append(newPage)\n",
    "                        getLinks(newPage)\n",
    "        except:\n",
    "            pass\n",
    "getLinks('')\n",
    "len(pages)"
   ]
  },
  {
   "cell_type": "code",
   "execution_count": 43,
   "id": "b4047edd",
   "metadata": {},
   "outputs": [
    {
     "data": {
      "text/plain": [
       "0.26015313131313134"
      ]
     },
     "execution_count": 43,
     "metadata": {},
     "output_type": "execute_result"
    }
   ],
   "source": [
    "import pandas as pd\n",
    "import nltk\n",
    "from nltk import sent_tokenize\n",
    "from textblob import TextBlob\n",
    "from textblob.sentiments import NaiveBayesAnalyzer\n",
    "\n",
    "data_from_csv = pd.read_csv('data.csv',encoding='utf-8')\n",
    "\n",
    "sen = data_from_csv['content'][8]\n",
    "s = 'you so bad'\n",
    "tb = TextBlob(sen).sentiment.polarity\n",
    "# for i in data_from_csv['content']:\n",
    "#     print(i)\n",
    "tb"
   ]
  },
  {
   "cell_type": "code",
   "execution_count": 21,
   "id": "7eef65ac",
   "metadata": {},
   "outputs": [
    {
     "data": {
      "text/plain": [
       "-0.34329635026566574"
      ]
     },
     "execution_count": 21,
     "metadata": {},
     "output_type": "execute_result"
    }
   ],
   "source": [
    "a =0.3283518248671672\n",
    "b=0.6716481751328329\n",
    "a-b"
   ]
  },
  {
   "cell_type": "code",
   "execution_count": null,
   "id": "3ac3f101",
   "metadata": {},
   "outputs": [],
   "source": []
  }
 ],
 "metadata": {
  "kernelspec": {
   "display_name": "Python 3 (ipykernel)",
   "language": "python",
   "name": "python3"
  },
  "language_info": {
   "codemirror_mode": {
    "name": "ipython",
    "version": 3
   },
   "file_extension": ".py",
   "mimetype": "text/x-python",
   "name": "python",
   "nbconvert_exporter": "python",
   "pygments_lexer": "ipython3",
   "version": "3.10.1"
  }
 },
 "nbformat": 4,
 "nbformat_minor": 5
}
